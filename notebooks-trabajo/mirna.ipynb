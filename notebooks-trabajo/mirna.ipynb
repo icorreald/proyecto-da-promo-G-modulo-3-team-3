{
 "cells": [
  {
   "cell_type": "code",
   "execution_count": 57,
   "metadata": {},
   "outputs": [],
   "source": [
    "import numpy as np\n",
    "import pandas as pd\n",
    "# from word2number import w2n\n",
    "import re\n",
    "import matplotlib.pyplot as plt\n",
    "import seaborn as sns\n",
    "from scipy import stats\n",
    "import scipy.stats as stats\n",
    "\n",
    "# Configuración\n",
    "# -----------------------------------------------------------------------\n",
    "pd.set_option('display.max_columns', None) # para poder visualizar todas las columnas de los DataFrames\n",
    "\n",
    "# Gestión de los warnings\n",
    "# -----------------------------------------------------------------------\n",
    "import warnings\n",
    "warnings.filterwarnings(\"ignore\")\n",
    "\n",
    "from scipy.stats import chi2_contingency, ttest_ind\n",
    "import datetime\n"
   ]
  },
  {
   "cell_type": "code",
   "execution_count": 62,
   "metadata": {},
   "outputs": [],
   "source": [
    "df = pd.read_csv('../csv-archivos/limpieza_final.csv',index_col=0)"
   ]
  },
  {
   "cell_type": "code",
   "execution_count": null,
   "metadata": {},
   "outputs": [],
   "source": [
    "df"
   ]
  },
  {
   "cell_type": "code",
   "execution_count": 12,
   "metadata": {},
   "outputs": [
    {
     "data": {
      "text/plain": [
       "(1580, 33)"
      ]
     },
     "execution_count": 12,
     "metadata": {},
     "output_type": "execute_result"
    }
   ],
   "source": [
    "df.shape"
   ]
  },
  {
   "cell_type": "code",
   "execution_count": null,
   "metadata": {},
   "outputs": [],
   "source": [
    "df.info()"
   ]
  },
  {
   "cell_type": "code",
   "execution_count": 16,
   "metadata": {},
   "outputs": [
    {
     "data": {
      "text/plain": [
       "array([3, 2, 4, 1])"
      ]
     },
     "execution_count": 16,
     "metadata": {},
     "output_type": "execute_result"
    }
   ],
   "source": [
    "df[\"job_involvement\"].unique()"
   ]
  },
  {
   "cell_type": "markdown",
   "metadata": {},
   "source": [
    "# Estudios de salario y variables personales"
   ]
  },
  {
   "cell_type": "markdown",
   "metadata": {},
   "source": [
    "Comparamos monthlyincome los ingresos mensuales del empleado con education que es el nivel de educacion del empleado, creamos dos grupos, el grupo nº 1 contiene los niveles 1,2,3 y el grupo nº2 los niveles 4,5. Planteariamos las siguientes hipotesis:\n",
    "\n",
    "Hipótesis nula (H0): No hay diferencia significativa en los ingresos mensuales entre los dos grupos de educación.\n",
    "Hipótesis alternativa (H1): Hay una diferencia significativa en los ingresos mensuales entre los dos grupos de educación."
   ]
  },
  {
   "cell_type": "code",
   "execution_count": null,
   "metadata": {},
   "outputs": [],
   "source": [
    "df[\"education\"].value_counts()"
   ]
  },
  {
   "cell_type": "code",
   "execution_count": null,
   "metadata": {},
   "outputs": [],
   "source": [
    "# Distribución de acuerdo a salario mensual\n",
    "sns.histplot(x = \"education\", \n",
    "             data =df, \n",
    "             color = \"violet\", \n",
    "             kde = True,\n",
    "             bins = 20 );"
   ]
  },
  {
   "cell_type": "code",
   "execution_count": 63,
   "metadata": {},
   "outputs": [],
   "source": [
    "df = df.dropna(subset=['monthly_income'])"
   ]
  },
  {
   "cell_type": "code",
   "execution_count": 64,
   "metadata": {},
   "outputs": [
    {
     "data": {
      "text/plain": [
       "3    294\n",
       "2    137\n",
       "1     83\n",
       "Name: education, dtype: int64"
      ]
     },
     "execution_count": 64,
     "metadata": {},
     "output_type": "execute_result"
    }
   ],
   "source": [
    "grupo_1 = df[df['education'].isin([1, 2, 3])]\n",
    "grupo_1['education'].value_counts()\n"
   ]
  },
  {
   "cell_type": "code",
   "execution_count": 65,
   "metadata": {},
   "outputs": [
    {
     "data": {
      "text/plain": [
       "4    213\n",
       "5     27\n",
       "Name: education, dtype: int64"
      ]
     },
     "execution_count": 65,
     "metadata": {},
     "output_type": "execute_result"
    }
   ],
   "source": [
    "grupo_2 = df[df['education'].isin([4, 5])]\n",
    "grupo_2['education'].value_counts()"
   ]
  },
  {
   "cell_type": "code",
   "execution_count": 66,
   "metadata": {},
   "outputs": [
    {
     "data": {
      "text/plain": [
       "2.419481558599667e-24"
      ]
     },
     "execution_count": 66,
     "metadata": {},
     "output_type": "execute_result"
    }
   ],
   "source": [
    "\n",
    "_, p_valor_grupo_1 = stats.shapiro(grupo_1['monthly_income'])\n",
    "p_valor_grupo_1\n"
   ]
  },
  {
   "cell_type": "code",
   "execution_count": 67,
   "metadata": {},
   "outputs": [
    {
     "data": {
      "text/plain": [
       "2.419481558599667e-24"
      ]
     },
     "execution_count": 67,
     "metadata": {},
     "output_type": "execute_result"
    }
   ],
   "source": [
    "_, p_valor_grupo_2 = stats.shapiro(grupo_1['monthly_income'])\n",
    "p_valor_grupo_2\n"
   ]
  },
  {
   "cell_type": "code",
   "execution_count": 68,
   "metadata": {},
   "outputs": [
    {
     "data": {
      "text/plain": [
       "0.7256242478180739"
      ]
     },
     "execution_count": 68,
     "metadata": {},
     "output_type": "execute_result"
    }
   ],
   "source": [
    "# Realizar la prueba de Levene para la homogeneidad de varianzas\n",
    "_, p_valor_homogeneidad = stats.levene(grupo_1['monthly_income'], grupo_2['monthly_income'])\n",
    "p_valor_homogeneidad"
   ]
  },
  {
   "cell_type": "code",
   "execution_count": 69,
   "metadata": {},
   "outputs": [
    {
     "name": "stdout",
     "output_type": "stream",
     "text": [
      "Resultado de la prueba U de Mann-Whitney:\n",
      "Estadística U: 53735.0\n",
      "Valor p: 0.00434923931074043\n"
     ]
    }
   ],
   "source": [
    "# Realizar la prueba de Mann-Whitney U\n",
    "resultado_prueba = stats.mannwhitneyu(grupo_1['monthly_income'], grupo_2['monthly_income'])\n",
    "\n",
    "# Imprimir los resultados de la prueba U de Mann-Whitney\n",
    "print(\"Resultado de la prueba U de Mann-Whitney:\")\n",
    "print(\"Estadística U:\", resultado_prueba.statistic)\n",
    "print(\"Valor p:\", resultado_prueba.pvalue)\n"
   ]
  },
  {
   "cell_type": "markdown",
   "metadata": {},
   "source": [
    "Concluimos que si hay diferencia en los salarios de acuerdo al nivel de educación."
   ]
  },
  {
   "cell_type": "markdown",
   "metadata": {},
   "source": [
    "Comparamos monthlyincome los ingresos mensuales del empleado con la edad del empleado, creamos dos grupos, el grupo nº 3 contiene nacidos hasta el año 1990 y el grupo nº4 los nacidos despues de 1990. Planteariamos las siguientes hipotesis:\n",
    "\n",
    "Hipótesis nula (H0): No hay diferencia significativa en los ingresos mensuales entre los dos grupos de edades.\n",
    "Hipótesis alternativa (H1): Hay una diferencia significativa en los ingresos mensuales entre los dos grupos de edades."
   ]
  },
  {
   "cell_type": "code",
   "execution_count": null,
   "metadata": {},
   "outputs": [],
   "source": [
    "df[\"date_birth\"].value_counts()"
   ]
  },
  {
   "cell_type": "code",
   "execution_count": 74,
   "metadata": {},
   "outputs": [
    {
     "name": "stdout",
     "output_type": "stream",
     "text": [
      "Cantidad de observaciones en el Grupo 1: 492\n",
      "Cantidad de observaciones en el Grupo 2: 262\n"
     ]
    }
   ],
   "source": [
    "\n",
    "# Calcular la fecha de corte para dividir los grupos\n",
    "fecha_corte = 1990\n",
    "\n",
    "# Dividir el DataFrame en dos grupos según la fecha de nacimiento\n",
    "grupo_3 = df[df['date_birth'] <= fecha_corte]\n",
    "grupo_4 = df[df['date_birth'] > fecha_corte]\n",
    "\n",
    "# Verificar el tamaño de cada grupo\n",
    "print(\"Cantidad de observaciones en el Grupo 1:\", len(grupo_1))\n",
    "print(\"Cantidad de observaciones en el Grupo 2:\", len(grupo_2))\n"
   ]
  },
  {
   "cell_type": "code",
   "execution_count": 75,
   "metadata": {},
   "outputs": [
    {
     "data": {
      "text/plain": [
       "4.7374358320177325e-21"
      ]
     },
     "execution_count": 75,
     "metadata": {},
     "output_type": "execute_result"
    }
   ],
   "source": [
    "_, p_valor_grupo_3 = stats.shapiro(grupo_1['monthly_income'])\n",
    "p_valor_grupo_1"
   ]
  },
  {
   "cell_type": "code",
   "execution_count": 76,
   "metadata": {},
   "outputs": [
    {
     "data": {
      "text/plain": [
       "4.7374358320177325e-21"
      ]
     },
     "execution_count": 76,
     "metadata": {},
     "output_type": "execute_result"
    }
   ],
   "source": [
    "_, p_valor_grupo_4 = stats.shapiro(grupo_1['monthly_income'])\n",
    "p_valor_grupo_2\n"
   ]
  },
  {
   "cell_type": "code",
   "execution_count": 77,
   "metadata": {},
   "outputs": [
    {
     "name": "stdout",
     "output_type": "stream",
     "text": [
      "Resultado de la prueba U de Mann-Whitney:\n",
      "Estadística U: 94688.5\n",
      "Valor p: 2.4797572333994825e-26\n"
     ]
    }
   ],
   "source": [
    "# Realizar la prueba de Mann-Whitney U\n",
    "resultado_prueba = stats.mannwhitneyu(grupo_3['monthly_income'], grupo_4['monthly_income'])\n",
    "\n",
    "# Imprimir los resultados de la prueba U de Mann-Whitney\n",
    "print(\"Resultado de la prueba U de Mann-Whitney:\")\n",
    "print(\"Estadística U:\", resultado_prueba.statistic)\n",
    "print(\"Valor p:\", resultado_prueba.pvalue)"
   ]
  },
  {
   "cell_type": "markdown",
   "metadata": {},
   "source": [
    "Concluimos que si hay diferencias en el salario de acuerdo a la edad"
   ]
  },
  {
   "cell_type": "markdown",
   "metadata": {},
   "source": [
    "# Otros analisis a desarrollar"
   ]
  },
  {
   "cell_type": "code",
   "execution_count": 18,
   "metadata": {},
   "outputs": [
    {
     "data": {
      "text/plain": [
       "0     614\n",
       "1     379\n",
       "2     172\n",
       "7      90\n",
       "4      66\n",
       "3      61\n",
       "5      51\n",
       "6      36\n",
       "11     25\n",
       "8      19\n",
       "9      18\n",
       "15     14\n",
       "13     10\n",
       "12     10\n",
       "14      9\n",
       "10      6\n",
       "Name: years_since_last_promotion, dtype: int64"
      ]
     },
     "execution_count": 18,
     "metadata": {},
     "output_type": "execute_result"
    }
   ],
   "source": [
    "df[\"years_since_last_promotion\"].value_counts()"
   ]
  },
  {
   "cell_type": "code",
   "execution_count": 10,
   "metadata": {},
   "outputs": [
    {
     "data": {
      "text/plain": [
       "array([ 3.,  4., nan])"
      ]
     },
     "execution_count": 10,
     "metadata": {},
     "output_type": "execute_result"
    }
   ],
   "source": [
    "df[\"performance_rating\"].unique()"
   ]
  },
  {
   "cell_type": "code",
   "execution_count": 216,
   "metadata": {},
   "outputs": [],
   "source": [
    "df = pd.read_csv('../csv-archivos/HR RAW DATA.csv', index_col=0)"
   ]
  },
  {
   "cell_type": "code",
   "execution_count": 4,
   "metadata": {},
   "outputs": [],
   "source": [
    "#Columna Age"
   ]
  },
  {
   "cell_type": "code",
   "execution_count": 5,
   "metadata": {},
   "outputs": [],
   "source": [
    "def word_to_num(dato):\n",
    "    \n",
    "    if len(dato) > 2:\n",
    "        dato = w2n.word_to_num(dato)\n",
    "        return dato\n",
    "\n",
    "    else:\n",
    "        return dato"
   ]
  },
  {
   "cell_type": "code",
   "execution_count": 6,
   "metadata": {},
   "outputs": [],
   "source": [
    "df['Age'] = df['Age'].apply(word_to_num)"
   ]
  },
  {
   "cell_type": "code",
   "execution_count": 7,
   "metadata": {},
   "outputs": [],
   "source": [
    "#Attrition"
   ]
  },
  {
   "cell_type": "code",
   "execution_count": 8,
   "metadata": {},
   "outputs": [],
   "source": [
    "def true_false(valor):\n",
    "   \n",
    "    if valor in ['Yes', 'yes', '1', 'Y']:\n",
    "        valor = True\n",
    "    \n",
    "    elif valor in ['False', 'No', '0', 'false']:\n",
    "        valor = False\n",
    "    \n",
    "\n",
    "    else:\n",
    "        valor = np.nan\n",
    "\n",
    "    return valor\n"
   ]
  },
  {
   "cell_type": "code",
   "execution_count": 9,
   "metadata": {},
   "outputs": [],
   "source": [
    "lista_bool = ['Attrition', 'RemoteWork', \"Over18\" , 'OverTime']\n",
    "\n",
    "for columna in lista_bool:\n",
    "    df[columna] = df[columna].apply(true_false)"
   ]
  },
  {
   "cell_type": "code",
   "execution_count": 10,
   "metadata": {},
   "outputs": [],
   "source": [
    "#Business Travel"
   ]
  },
  {
   "cell_type": "code",
   "execution_count": 11,
   "metadata": {},
   "outputs": [],
   "source": [
    "df['BusinessTravel'] = df['BusinessTravel'].map({\"non-travel\":\"no\", \"travel_rarely\":\"rarely\", \"travel_frequently\":\"frequently\"})"
   ]
  },
  {
   "cell_type": "code",
   "execution_count": 12,
   "metadata": {},
   "outputs": [],
   "source": [
    "#Daily Rate"
   ]
  },
  {
   "cell_type": "code",
   "execution_count": 44,
   "metadata": {},
   "outputs": [],
   "source": [
    "lista_float =  ['Age', 'employeenumber', 'PerformanceRating', 'StandardHours', 'TOTALWORKINGYEARS', 'Salary', 'YearsInCurrentRole', 'SameAsMonthlyIncome', 'DailyRate', 'WORKLIFEBALANCE', 'MonthlyIncome']"
   ]
  },
  {
   "cell_type": "code",
   "execution_count": 45,
   "metadata": {},
   "outputs": [],
   "source": [
    "def to_float(valor):\n",
    "    try:\n",
    "        if type(valor) != str or np.nan:\n",
    "            str(valor)\n",
    "        \n",
    "            \n",
    "        if '$' in valor:\n",
    "            valor = valor.replace('$', '')\n",
    "        elif '%' in valor:\n",
    "            valor = valor.replace('%', '')\n",
    "        return float(valor.replace(\",\", \".\"))\n",
    "        \n",
    "    \n",
    "    except:\n",
    "        \n",
    "        return np.nan"
   ]
  },
  {
   "cell_type": "code",
   "execution_count": 46,
   "metadata": {},
   "outputs": [],
   "source": [
    "for columna in lista_float:\n",
    "\n",
    "    df[columna] = df[columna].apply(to_float)"
   ]
  },
  {
   "cell_type": "code",
   "execution_count": 47,
   "metadata": {},
   "outputs": [
    {
     "data": {
      "text/plain": [
       "dtype('float64')"
      ]
     },
     "execution_count": 47,
     "metadata": {},
     "output_type": "execute_result"
    }
   ],
   "source": [
    "df['Age'].dtypes"
   ]
  },
  {
   "cell_type": "code",
   "execution_count": 16,
   "metadata": {},
   "outputs": [],
   "source": [
    "#Distance From Home"
   ]
  },
  {
   "cell_type": "code",
   "execution_count": 17,
   "metadata": {},
   "outputs": [],
   "source": [
    "df[\"DistanceFromHome\"] = abs(df[\"DistanceFromHome\"])"
   ]
  },
  {
   "cell_type": "code",
   "execution_count": 18,
   "metadata": {},
   "outputs": [],
   "source": [
    "#employeecount"
   ]
  },
  {
   "cell_type": "code",
   "execution_count": 19,
   "metadata": {},
   "outputs": [],
   "source": [
    "df.drop(['employeecount', 'NUMBERCHILDREN'], axis=1, inplace=True)"
   ]
  },
  {
   "cell_type": "markdown",
   "metadata": {},
   "source": [
    "## ISA"
   ]
  },
  {
   "cell_type": "code",
   "execution_count": 20,
   "metadata": {},
   "outputs": [],
   "source": [
    "df['MaritalStatus'] = df['MaritalStatus'].str.replace('marreid', 'married')\n",
    "\n",
    "\n",
    "df['Gender'] = df['Gender'].map({1: \"F\", 0: 'M'})"
   ]
  },
  {
   "cell_type": "code",
   "execution_count": 21,
   "metadata": {},
   "outputs": [],
   "source": [
    "df['HourlyRate'] = df['HourlyRate'].replace('Not Available', np.nan)"
   ]
  },
  {
   "cell_type": "markdown",
   "metadata": {},
   "source": [
    "## MIRNA"
   ]
  },
  {
   "cell_type": "code",
   "execution_count": 22,
   "metadata": {},
   "outputs": [],
   "source": [
    "df[\"PercentSalaryHike\"] = (df[\"PercentSalaryHike\"]).astype(float) / 100"
   ]
  },
  {
   "cell_type": "markdown",
   "metadata": {},
   "source": [
    "## JOHANNA"
   ]
  },
  {
   "cell_type": "code",
   "execution_count": 23,
   "metadata": {},
   "outputs": [],
   "source": [
    "\n",
    "\n",
    "# eliminamos el role job\n",
    "lista_vacia = []\n",
    "\n",
    "for dato in df['RoleDepartament']:\n",
    "    dato = str(dato)\n",
    "    if '-' in dato:\n",
    "        dato = dato.split('- ')\n",
    "        lista_vacia.append(dato[-1].strip())\n",
    "    else:\n",
    "        lista_vacia.append(dato)\n",
    "\n",
    "\n",
    "# volcamos datos nuevos\n",
    "df['RoleDepartament'] = lista_vacia"
   ]
  },
  {
   "cell_type": "markdown",
   "metadata": {},
   "source": [
    "HOMOGENIZAR COLUMNAS"
   ]
  },
  {
   "cell_type": "code",
   "execution_count": null,
   "metadata": {},
   "outputs": [],
   "source": [
    "df"
   ]
  },
  {
   "cell_type": "code",
   "execution_count": 25,
   "metadata": {},
   "outputs": [],
   "source": [
    "#creo una nueva lista para apendear los nuevos nombres\n",
    "col = []\n",
    "patron = re.compile(r'[a-zA-Z][a-z]*[A-Z][a-z]*') #patron que busca minusculas y mayusculas seguidas\n",
    "for columna in df.columns: #itero por la lista \n",
    "    if re.search(patron, columna):\n",
    "        col_sep = re.sub(r'(?<=[a-z])(?=[A-Z])', '_', columna) #cada vez que encuentro una minúscula seguida de mayúscula lo cambio por _ \n",
    "        col.append(col_sep.lower())\n",
    "    else:\n",
    "        col.append(columna.lower())"
   ]
  },
  {
   "cell_type": "code",
   "execution_count": null,
   "metadata": {},
   "outputs": [],
   "source": [
    "col"
   ]
  },
  {
   "cell_type": "code",
   "execution_count": 27,
   "metadata": {},
   "outputs": [
    {
     "data": {
      "text/plain": [
       "(1614, 39)"
      ]
     },
     "execution_count": 27,
     "metadata": {},
     "output_type": "execute_result"
    }
   ],
   "source": [
    "df.shape"
   ]
  },
  {
   "cell_type": "code",
   "execution_count": 28,
   "metadata": {},
   "outputs": [],
   "source": [
    "nuevas_columnas = ['age',\n",
    " 'attrition',\n",
    " 'business_travel',\n",
    " 'daily_rate',\n",
    " 'department',\n",
    " 'distance_from_home',\n",
    " 'education',\n",
    " 'education_field',\n",
    " 'employee_number',\n",
    " 'environment_satisfaction',\n",
    " 'gender',\n",
    " 'hourly_rate',\n",
    " 'job_involvement',\n",
    " 'job_level',\n",
    " 'job_role',\n",
    " 'job_satisfaction',\n",
    " 'marital_status',\n",
    " 'monthly_income',\n",
    " 'monthly_rate',\n",
    " 'num_companies_worked',\n",
    " 'over18',\n",
    " 'over_time',\n",
    " 'percent_salary_hike',\n",
    " 'performance_rating',\n",
    " 'relationship_satisfaction',\n",
    " 'standard_hours',\n",
    " 'stock_option_level',\n",
    " 'total_workin_gyears',\n",
    " 'training_times_last_year',\n",
    " 'work_life_balance',\n",
    " 'years_at_company',\n",
    " 'years_in_current_role',\n",
    " 'years_since_last_promotion',\n",
    " 'years_with_curr_manager',\n",
    " 'same_as_monthly_income',\n",
    " 'date_birth',\n",
    " 'salary',\n",
    " 'role_departament',\n",
    " 'remote_work']"
   ]
  },
  {
   "cell_type": "code",
   "execution_count": 29,
   "metadata": {},
   "outputs": [
    {
     "data": {
      "text/plain": [
       "39"
      ]
     },
     "execution_count": 29,
     "metadata": {},
     "output_type": "execute_result"
    }
   ],
   "source": [
    "len(col)"
   ]
  },
  {
   "cell_type": "code",
   "execution_count": 30,
   "metadata": {},
   "outputs": [
    {
     "data": {
      "text/plain": [
       "39"
      ]
     },
     "execution_count": 30,
     "metadata": {},
     "output_type": "execute_result"
    }
   ],
   "source": [
    "len(nuevas_columnas)"
   ]
  },
  {
   "cell_type": "code",
   "execution_count": null,
   "metadata": {},
   "outputs": [],
   "source": [
    "dicc = {}\n",
    "\n",
    "for indice, valor in zip(df.columns, nuevas_columnas):\n",
    "    dicc[indice] = valor\n",
    "\n",
    "dicc"
   ]
  },
  {
   "cell_type": "code",
   "execution_count": 32,
   "metadata": {},
   "outputs": [],
   "source": [
    "df.rename(columns=dicc, inplace=True)"
   ]
  },
  {
   "cell_type": "code",
   "execution_count": 33,
   "metadata": {},
   "outputs": [],
   "source": [
    "df.to_csv('df_limpio.csv')"
   ]
  },
  {
   "cell_type": "code",
   "execution_count": null,
   "metadata": {},
   "outputs": [],
   "source": [
    "df_limpio = pd.read_csv('df_limpio.csv', index_col=0)\n",
    "df_limpio"
   ]
  },
  {
   "cell_type": "code",
   "execution_count": null,
   "metadata": {},
   "outputs": [],
   "source": [
    "(df.isnull().sum()/df.shape[0])*100"
   ]
  },
  {
   "cell_type": "code",
   "execution_count": 36,
   "metadata": {},
   "outputs": [
    {
     "data": {
      "text/plain": [
       "dtype('O')"
      ]
     },
     "execution_count": 36,
     "metadata": {},
     "output_type": "execute_result"
    }
   ],
   "source": [
    "df['age'].dtypes"
   ]
  },
  {
   "cell_type": "markdown",
   "metadata": {},
   "source": [
    "# DUPLICADOS"
   ]
  },
  {
   "cell_type": "code",
   "execution_count": 49,
   "metadata": {},
   "outputs": [],
   "source": [
    "df = pd.read_csv('../csv-archivos/datos_limpios.csv', index_col=0)"
   ]
  },
  {
   "cell_type": "code",
   "execution_count": 57,
   "metadata": {},
   "outputs": [],
   "source": [
    "filas_duplicadas = df[df.duplicated()]"
   ]
  },
  {
   "cell_type": "code",
   "execution_count": null,
   "metadata": {},
   "outputs": [],
   "source": [
    "filas_duplicadas"
   ]
  },
  {
   "cell_type": "code",
   "execution_count": 54,
   "metadata": {},
   "outputs": [],
   "source": [
    "dfcopy = df.copy()"
   ]
  },
  {
   "cell_type": "code",
   "execution_count": 61,
   "metadata": {},
   "outputs": [],
   "source": [
    "df.drop_duplicates(inplace=True)"
   ]
  },
  {
   "cell_type": "code",
   "execution_count": null,
   "metadata": {},
   "outputs": [],
   "source": [
    "for col in df.columns:\n",
    "    print"
   ]
  },
  {
   "cell_type": "markdown",
   "metadata": {},
   "source": [
    "columnas no duplicados:\n",
    "- employee_number (con pinzas)"
   ]
  },
  {
   "cell_type": "code",
   "execution_count": 63,
   "metadata": {},
   "outputs": [],
   "source": [
    "pd.set_option('display.max_columns', None)"
   ]
  },
  {
   "cell_type": "code",
   "execution_count": null,
   "metadata": {},
   "outputs": [],
   "source": [
    "df.head()"
   ]
  },
  {
   "cell_type": "code",
   "execution_count": null,
   "metadata": {},
   "outputs": [],
   "source": [
    "df['hourly_rate'] * df['standard_hours']"
   ]
  },
  {
   "cell_type": "code",
   "execution_count": null,
   "metadata": {},
   "outputs": [],
   "source": [
    "df['daily_rate'] / df['hourly_rate']"
   ]
  },
  {
   "cell_type": "code",
   "execution_count": null,
   "metadata": {},
   "outputs": [],
   "source": [
    "df['standard_hours']"
   ]
  },
  {
   "cell_type": "code",
   "execution_count": null,
   "metadata": {},
   "outputs": [],
   "source": [
    "df[['monthly_income', 'daily_rate', 'hourly_rate', 'monthly_rate']]"
   ]
  },
  {
   "cell_type": "markdown",
   "metadata": {},
   "source": [
    "Observaciones individuales \n",
    "1- \"same_as_monthly_income\" y \"monthly_income\", son iguales. Eliminar una de las dos, salary es un valor constante no nos aporta nada\n",
    "2- Analizamos el salario mensual contamos con el 47% de los datos los demas son nulos. Existe una gran variabilidad en los ingresos de los empleados entre 1009 y 19.999(desviación 4.766.11)\n",
    "Tiene una media de 6.477,66, mediana de 4.859 el salario minimo es 1.009, el maximo 19.999, el 75% esta por debajo de 8.2230 , el 25% por debajo de 2.880. \n",
    "3- Analizamos el porcentaje de aumento salarial : hay una variedad de incrementos salariales entre los empleados, con un promedio de alrededor del 15.17% y una desviación estándar moderada de aproximadamente 3.65%.\n",
    "Valores mínimos y máximos (Min y Max): El porcentaje mínimo de aumento salarial registrado es del 11%, mientras que el máximo es del 25%.\n",
    "El 25% de los empleados tienen un aumento salarial del 12% o menos, el 50% tienen un aumento del 14% o menos, y el 75% tienen un aumento del 18% o menos.\n",
    "4- # Relación entre el ingreso mensual 'monthly_income'  y la tasa mensual 'monthly_rate', es casi horizontal asi que no hay una relación directa solo que al aumentar el ingreso tambien la tasa\n",
    "5- # No existe relacion considerable entre el ingreso mensual  y el % de aumento salarial\n",
    "6- La columna daily rate da la impresión de ser la cantidad real que gana un empleado por dia, contamos con el 92% de los datos numericos y además es la unica columna que en principio tenía el simbolo de $.  Los valores varían considerablemente, lo que indica que hay una diversidad en los niveles salariales diarios entre los empleados.\n",
    "\n",
    "    \n",
    "7- La columna \"hourly_rate\", indica que hay una gran variabilidad en el valor asignado a cada empleado. Contamos con el 94% de los datos."
   ]
  },
  {
   "cell_type": "code",
   "execution_count": 232,
   "metadata": {},
   "outputs": [],
   "source": [
    "df = pd.read_csv('../csv-archivos/datos_limpios.csv')"
   ]
  },
  {
   "cell_type": "code",
   "execution_count": null,
   "metadata": {},
   "outputs": [],
   "source": [
    "df.head()"
   ]
  },
  {
   "cell_type": "code",
   "execution_count": 233,
   "metadata": {},
   "outputs": [],
   "source": [
    "datos_sueldo = df[[\n",
    "    \"daily_rate\",\n",
    "    \"hourly_rate\",\n",
    "    \"same_as_monthly_income\",\n",
    "    \"salary\",\n",
    "    \"percent_salary_hike\",\n",
    "    \"monthly_income\",\n",
    "    \"monthly_rate\"\n",
    "]]"
   ]
  },
  {
   "cell_type": "code",
   "execution_count": null,
   "metadata": {},
   "outputs": [],
   "source": [
    "datos_sueldo"
   ]
  },
  {
   "cell_type": "code",
   "execution_count": 234,
   "metadata": {},
   "outputs": [
    {
     "name": "stdout",
     "output_type": "stream",
     "text": [
      "<class 'pandas.core.frame.DataFrame'>\n",
      "RangeIndex: 1614 entries, 0 to 1613\n",
      "Data columns (total 7 columns):\n",
      " #   Column                  Non-Null Count  Dtype  \n",
      "---  ------                  --------------  -----  \n",
      " 0   daily_rate              1490 non-null   float64\n",
      " 1   hourly_rate             1530 non-null   float64\n",
      " 2   same_as_monthly_income  771 non-null    float64\n",
      " 3   salary                  1614 non-null   float64\n",
      " 4   percent_salary_hike     1614 non-null   float64\n",
      " 5   monthly_income          771 non-null    float64\n",
      " 6   monthly_rate            1614 non-null   int64  \n",
      "dtypes: float64(6), int64(1)\n",
      "memory usage: 88.4 KB\n"
     ]
    }
   ],
   "source": [
    "datos_sueldo.info()"
   ]
  },
  {
   "cell_type": "code",
   "execution_count": 157,
   "metadata": {},
   "outputs": [],
   "source": [
    "# 1. Verificamos si son iguales de varias maneras\n",
    "diferencia = df[df[\"same_as_monthly_income\"] - df[\"monthly_income\"] == 0]"
   ]
  },
  {
   "cell_type": "code",
   "execution_count": null,
   "metadata": {},
   "outputs": [],
   "source": [
    "diferencia"
   ]
  },
  {
   "cell_type": "code",
   "execution_count": 162,
   "metadata": {},
   "outputs": [],
   "source": [
    "diferencia2 = df[df[\"same_as_monthly_income\"] - df[\"monthly_income\"] != 0]"
   ]
  },
  {
   "cell_type": "code",
   "execution_count": null,
   "metadata": {},
   "outputs": [],
   "source": [
    "diferencia2"
   ]
  },
  {
   "cell_type": "code",
   "execution_count": 137,
   "metadata": {},
   "outputs": [],
   "source": [
    "son_iguales = df['same_as_monthly_income'].equals(df['monthly_income'])"
   ]
  },
  {
   "cell_type": "code",
   "execution_count": 138,
   "metadata": {},
   "outputs": [
    {
     "data": {
      "text/plain": [
       "True"
      ]
     },
     "execution_count": 138,
     "metadata": {},
     "output_type": "execute_result"
    }
   ],
   "source": [
    "son_iguales"
   ]
  },
  {
   "cell_type": "code",
   "execution_count": null,
   "metadata": {},
   "outputs": [],
   "source": [
    "# Inicializar contador de diferencias y de valores nulos\n",
    "diferencias = 0\n",
    "valores_nulos = 0\n",
    "\n",
    "# Iterar sobre cada fila del DataFrame\n",
    "for index, row in df.iterrows():\n",
    "    same_as_monthly = row['same_as_monthly_income']\n",
    "    monthly_income = row['monthly_income']\n",
    "    \n",
    "    # Verificar si los valores son diferentes\n",
    "    if same_as_monthly != monthly_income:\n",
    "        diferencias += 1\n",
    "        print(f\"Diferencia en la fila {index}: same_as_monthly_income = {same_as_monthly}, monthly_income = {monthly_income}\")\n",
    "    \n",
    "    # Verificar si hay valores nulos en alguna de las dos columnas\n",
    "    if pd.isnull(same_as_monthly) or pd.isnull(monthly_income):\n",
    "        valores_nulos += 1\n",
    "        print(f\"Valores nulos en la fila {index}: same_as_monthly_income = {same_as_monthly}, monthly_income = {monthly_income}\")\n",
    "\n",
    "# Imprimir resultados\n",
    "print(f\"Total de diferencias encontradas: {diferencias}\")\n",
    "print(f\"Total de filas con valores nulos: {valores_nulos}\")"
   ]
  },
  {
   "cell_type": "code",
   "execution_count": 187,
   "metadata": {},
   "outputs": [],
   "source": [
    "datos_sueldo1 = df[[\n",
    "    \"daily_rate\",\n",
    "    \"hourly_rate\",    \n",
    "    \"percent_salary_hike\",\n",
    "    \"monthly_income\",\n",
    "    \"monthly_rate\"\n",
    "]]"
   ]
  },
  {
   "cell_type": "code",
   "execution_count": 235,
   "metadata": {},
   "outputs": [
    {
     "data": {
      "text/html": [
       "<div>\n",
       "<style scoped>\n",
       "    .dataframe tbody tr th:only-of-type {\n",
       "        vertical-align: middle;\n",
       "    }\n",
       "\n",
       "    .dataframe tbody tr th {\n",
       "        vertical-align: top;\n",
       "    }\n",
       "\n",
       "    .dataframe thead th {\n",
       "        text-align: right;\n",
       "    }\n",
       "</style>\n",
       "<table border=\"1\" class=\"dataframe\">\n",
       "  <thead>\n",
       "    <tr style=\"text-align: right;\">\n",
       "      <th></th>\n",
       "      <th>daily_rate</th>\n",
       "      <th>hourly_rate</th>\n",
       "      <th>percent_salary_hike</th>\n",
       "      <th>monthly_income</th>\n",
       "      <th>monthly_rate</th>\n",
       "    </tr>\n",
       "  </thead>\n",
       "  <tbody>\n",
       "    <tr>\n",
       "      <th>0</th>\n",
       "      <td>684.0</td>\n",
       "      <td>51.0</td>\n",
       "      <td>0.13</td>\n",
       "      <td>19537.0</td>\n",
       "      <td>6462</td>\n",
       "    </tr>\n",
       "    <tr>\n",
       "      <th>1</th>\n",
       "      <td>699.0</td>\n",
       "      <td>65.0</td>\n",
       "      <td>0.14</td>\n",
       "      <td>19999.0</td>\n",
       "      <td>5678</td>\n",
       "    </tr>\n",
       "    <tr>\n",
       "      <th>2</th>\n",
       "      <td>532.0</td>\n",
       "      <td>58.0</td>\n",
       "      <td>0.11</td>\n",
       "      <td>19232.0</td>\n",
       "      <td>4933</td>\n",
       "    </tr>\n",
       "    <tr>\n",
       "      <th>3</th>\n",
       "      <td>359.0</td>\n",
       "      <td>82.0</td>\n",
       "      <td>0.19</td>\n",
       "      <td>17169.0</td>\n",
       "      <td>26703</td>\n",
       "    </tr>\n",
       "    <tr>\n",
       "      <th>4</th>\n",
       "      <td>1319.0</td>\n",
       "      <td>45.0</td>\n",
       "      <td>0.12</td>\n",
       "      <td>NaN</td>\n",
       "      <td>7739</td>\n",
       "    </tr>\n",
       "    <tr>\n",
       "      <th>...</th>\n",
       "      <td>...</td>\n",
       "      <td>...</td>\n",
       "      <td>...</td>\n",
       "      <td>...</td>\n",
       "      <td>...</td>\n",
       "    </tr>\n",
       "    <tr>\n",
       "      <th>1609</th>\n",
       "      <td>530.0</td>\n",
       "      <td>51.0</td>\n",
       "      <td>0.11</td>\n",
       "      <td>10325.0</td>\n",
       "      <td>5518</td>\n",
       "    </tr>\n",
       "    <tr>\n",
       "      <th>1610</th>\n",
       "      <td>805.0</td>\n",
       "      <td>57.0</td>\n",
       "      <td>0.12</td>\n",
       "      <td>4447.0</td>\n",
       "      <td>23163</td>\n",
       "    </tr>\n",
       "    <tr>\n",
       "      <th>1611</th>\n",
       "      <td>903.0</td>\n",
       "      <td>41.0</td>\n",
       "      <td>0.18</td>\n",
       "      <td>NaN</td>\n",
       "      <td>2560</td>\n",
       "    </tr>\n",
       "    <tr>\n",
       "      <th>1612</th>\n",
       "      <td>1229.0</td>\n",
       "      <td>84.0</td>\n",
       "      <td>0.13</td>\n",
       "      <td>NaN</td>\n",
       "      <td>25952</td>\n",
       "    </tr>\n",
       "    <tr>\n",
       "      <th>1613</th>\n",
       "      <td>566.0</td>\n",
       "      <td>75.0</td>\n",
       "      <td>0.13</td>\n",
       "      <td>10845.0</td>\n",
       "      <td>24208</td>\n",
       "    </tr>\n",
       "  </tbody>\n",
       "</table>\n",
       "<p>1614 rows × 5 columns</p>\n",
       "</div>"
      ],
      "text/plain": [
       "      daily_rate  hourly_rate  percent_salary_hike  monthly_income  \\\n",
       "0          684.0         51.0                 0.13         19537.0   \n",
       "1          699.0         65.0                 0.14         19999.0   \n",
       "2          532.0         58.0                 0.11         19232.0   \n",
       "3          359.0         82.0                 0.19         17169.0   \n",
       "4         1319.0         45.0                 0.12             NaN   \n",
       "...          ...          ...                  ...             ...   \n",
       "1609       530.0         51.0                 0.11         10325.0   \n",
       "1610       805.0         57.0                 0.12          4447.0   \n",
       "1611       903.0         41.0                 0.18             NaN   \n",
       "1612      1229.0         84.0                 0.13             NaN   \n",
       "1613       566.0         75.0                 0.13         10845.0   \n",
       "\n",
       "      monthly_rate  \n",
       "0             6462  \n",
       "1             5678  \n",
       "2             4933  \n",
       "3            26703  \n",
       "4             7739  \n",
       "...            ...  \n",
       "1609          5518  \n",
       "1610         23163  \n",
       "1611          2560  \n",
       "1612         25952  \n",
       "1613         24208  \n",
       "\n",
       "[1614 rows x 5 columns]"
      ]
     },
     "execution_count": 235,
     "metadata": {},
     "output_type": "execute_result"
    }
   ],
   "source": [
    "datos_sueldo1"
   ]
  },
  {
   "cell_type": "code",
   "execution_count": 236,
   "metadata": {},
   "outputs": [
    {
     "name": "stdout",
     "output_type": "stream",
     "text": [
      "<class 'pandas.core.frame.DataFrame'>\n",
      "RangeIndex: 1614 entries, 0 to 1613\n",
      "Data columns (total 5 columns):\n",
      " #   Column               Non-Null Count  Dtype  \n",
      "---  ------               --------------  -----  \n",
      " 0   daily_rate           1490 non-null   float64\n",
      " 1   hourly_rate          1530 non-null   float64\n",
      " 2   percent_salary_hike  1614 non-null   float64\n",
      " 3   monthly_income       771 non-null    float64\n",
      " 4   monthly_rate         1614 non-null   int64  \n",
      "dtypes: float64(4), int64(1)\n",
      "memory usage: 63.2 KB\n"
     ]
    }
   ],
   "source": [
    "datos_sueldo1.info()"
   ]
  },
  {
   "cell_type": "code",
   "execution_count": 237,
   "metadata": {},
   "outputs": [
    {
     "data": {
      "text/html": [
       "<div>\n",
       "<style scoped>\n",
       "    .dataframe tbody tr th:only-of-type {\n",
       "        vertical-align: middle;\n",
       "    }\n",
       "\n",
       "    .dataframe tbody tr th {\n",
       "        vertical-align: top;\n",
       "    }\n",
       "\n",
       "    .dataframe thead th {\n",
       "        text-align: right;\n",
       "    }\n",
       "</style>\n",
       "<table border=\"1\" class=\"dataframe\">\n",
       "  <thead>\n",
       "    <tr style=\"text-align: right;\">\n",
       "      <th></th>\n",
       "      <th>daily_rate</th>\n",
       "      <th>hourly_rate</th>\n",
       "      <th>percent_salary_hike</th>\n",
       "      <th>monthly_income</th>\n",
       "      <th>monthly_rate</th>\n",
       "    </tr>\n",
       "  </thead>\n",
       "  <tbody>\n",
       "    <tr>\n",
       "      <th>count</th>\n",
       "      <td>1490.000000</td>\n",
       "      <td>1530.000000</td>\n",
       "      <td>1614.000000</td>\n",
       "      <td>771.000000</td>\n",
       "      <td>1614.000000</td>\n",
       "    </tr>\n",
       "    <tr>\n",
       "      <th>mean</th>\n",
       "      <td>802.085235</td>\n",
       "      <td>66.028105</td>\n",
       "      <td>0.151654</td>\n",
       "      <td>6477.686122</td>\n",
       "      <td>14284.495663</td>\n",
       "    </tr>\n",
       "    <tr>\n",
       "      <th>std</th>\n",
       "      <td>403.246954</td>\n",
       "      <td>20.185954</td>\n",
       "      <td>0.036486</td>\n",
       "      <td>4766.119959</td>\n",
       "      <td>7110.414585</td>\n",
       "    </tr>\n",
       "    <tr>\n",
       "      <th>min</th>\n",
       "      <td>103.000000</td>\n",
       "      <td>30.000000</td>\n",
       "      <td>0.110000</td>\n",
       "      <td>1009.000000</td>\n",
       "      <td>2094.000000</td>\n",
       "    </tr>\n",
       "    <tr>\n",
       "      <th>25%</th>\n",
       "      <td>468.250000</td>\n",
       "      <td>48.000000</td>\n",
       "      <td>0.120000</td>\n",
       "      <td>2880.000000</td>\n",
       "      <td>8001.000000</td>\n",
       "    </tr>\n",
       "    <tr>\n",
       "      <th>50%</th>\n",
       "      <td>798.000000</td>\n",
       "      <td>66.000000</td>\n",
       "      <td>0.140000</td>\n",
       "      <td>4859.000000</td>\n",
       "      <td>14248.500000</td>\n",
       "    </tr>\n",
       "    <tr>\n",
       "      <th>75%</th>\n",
       "      <td>1157.000000</td>\n",
       "      <td>84.000000</td>\n",
       "      <td>0.180000</td>\n",
       "      <td>8230.500000</td>\n",
       "      <td>20364.000000</td>\n",
       "    </tr>\n",
       "    <tr>\n",
       "      <th>max</th>\n",
       "      <td>1499.000000</td>\n",
       "      <td>100.000000</td>\n",
       "      <td>0.250000</td>\n",
       "      <td>19999.000000</td>\n",
       "      <td>26999.000000</td>\n",
       "    </tr>\n",
       "  </tbody>\n",
       "</table>\n",
       "</div>"
      ],
      "text/plain": [
       "        daily_rate  hourly_rate  percent_salary_hike  monthly_income  \\\n",
       "count  1490.000000  1530.000000          1614.000000      771.000000   \n",
       "mean    802.085235    66.028105             0.151654     6477.686122   \n",
       "std     403.246954    20.185954             0.036486     4766.119959   \n",
       "min     103.000000    30.000000             0.110000     1009.000000   \n",
       "25%     468.250000    48.000000             0.120000     2880.000000   \n",
       "50%     798.000000    66.000000             0.140000     4859.000000   \n",
       "75%    1157.000000    84.000000             0.180000     8230.500000   \n",
       "max    1499.000000   100.000000             0.250000    19999.000000   \n",
       "\n",
       "       monthly_rate  \n",
       "count   1614.000000  \n",
       "mean   14284.495663  \n",
       "std     7110.414585  \n",
       "min     2094.000000  \n",
       "25%     8001.000000  \n",
       "50%    14248.500000  \n",
       "75%    20364.000000  \n",
       "max    26999.000000  "
      ]
     },
     "execution_count": 237,
     "metadata": {},
     "output_type": "execute_result"
    }
   ],
   "source": [
    "datos_sueldo1.describe()"
   ]
  },
  {
   "cell_type": "code",
   "execution_count": 238,
   "metadata": {},
   "outputs": [],
   "source": [
    "import matplotlib.pyplot as plt\n",
    "import seaborn as sns"
   ]
  },
  {
   "cell_type": "markdown",
   "metadata": {},
   "source": [
    "2 - Analizamos el salario mensual contamos con el 47% de los datos los demas son nulos. Existe una gran variabilidad en los ingresos de los empleados entre 1009 y 19.999(desviación 4.766.11)\n",
    "Tiene una media de 6.477,66, mediana de 4.859 el salario minimo es 1.009, el maximo 19.999, el 75% esta por debajo de 8.2230 , el 25% por debajo de 2.880. "
   ]
  },
  {
   "cell_type": "code",
   "execution_count": 239,
   "metadata": {},
   "outputs": [
    {
     "data": {
      "image/png": "[encoded data removed]",
      "text/plain": [
       "<Figure size 432x288 with 1 Axes>"
      ]
     },
     "metadata": {
      "needs_background": "light"
     },
     "output_type": "display_data"
    }
   ],
   "source": [
    "# Distribución de acuerdo a salario mensual\n",
    "sns.histplot(x = \"monthly_income\", \n",
    "             data =df, \n",
    "             color = \"violet\", \n",
    "             kde = True,\n",
    "             bins = 20 );"
   ]
  },
  {
   "cell_type": "code",
   "execution_count": 240,
   "metadata": {},
   "outputs": [
    {
     "data": {
      "text/plain": [
       "(0.0, 20000.0)"
      ]
     },
     "execution_count": 240,
     "metadata": {},
     "output_type": "execute_result"
    },
    {
     "data": {
      "image/png": "[encoded data removed]",
      "text/plain": [
       "<Figure size 1440x360 with 2 Axes>"
      ]
     },
     "metadata": {
      "needs_background": "light"
     },
     "output_type": "display_data"
    }
   ],
   "source": [
    "# empezamos creando el subplot con el número de gráficas deseadas en su interior\n",
    "fig, axes = plt.subplots(nrows = 1, ncols = 2, figsize = (20, 5))\n",
    "\n",
    "# añadimos un boxplot usando el método 'sns.boxplot()'\n",
    "sns.boxplot(y = \"monthly_income\", \n",
    "            data = df, \n",
    "            width = 0.5, \n",
    "            color = \"turquoise\", \n",
    "            ax = axes[0])\n",
    "\n",
    "# añadimos un título a esta primera gráfica usando el método '.set_title()\n",
    "axes[0].set_title(\"Boxplot usando la columna `monthly_income'\")\n",
    "\n",
    "\n",
    "# CREAMOS EL VIOLINPLOT USANDO SEABORN\n",
    "# añadimos un violinplot usando el método 'sns.violinplot()'. COMO ES SEABORN, USAMOS EL PARÁMETRO 'ax' PARA INDICAR EN QUE EJE DE LA FIGURA LO QUEREMOS \n",
    "sns.violinplot(y = \"monthly_income\", \n",
    "               data = df, \n",
    "               width = 0.5, \n",
    "               color = \"turquoise\", \n",
    "               linewidth = 2, \n",
    "               ax = axes[1])\n",
    "\n",
    "# añadimos un título a esta primera gráfica usando el método '.set_title()\n",
    "axes[1].set_title(\"Violinplot usando la columna `monthly_income'\")\n",
    "\n",
    "\n",
    "# como ya sabemos que tenemos muchos outliers, vamos a usar el método '.set_ylim()' para \"eliminar\" los valores atípicos de la visualización\n",
    "axes[0].set_ylim([0,20000])\n",
    "axes[1].set_ylim([0,20000])"
   ]
  },
  {
   "cell_type": "markdown",
   "metadata": {},
   "source": [
    "3. Analizamos el porcentaje de aumento salarial : hay una variedad de incrementos salariales entre los empleados, con un promedio de alrededor del 15.17% y una desviación estándar moderada de aproximadamente 3.65%.\n",
    "Valores mínimos y máximos (Min y Max): El porcentaje mínimo de aumento salarial registrado es del 11%, mientras que el máximo es del 25%.\n",
    "El 25% de los empleados tienen un aumento salarial del 12% o menos, el 50% tienen un aumento del 14% o menos, y el 75% tienen un aumento del 18% o menos."
   ]
  },
  {
   "cell_type": "code",
   "execution_count": 241,
   "metadata": {},
   "outputs": [
    {
     "data": {
      "image/png": "[encoded data removed]",
      "text/plain": [
       "<Figure size 432x288 with 1 Axes>"
      ]
     },
     "metadata": {
      "needs_background": "light"
     },
     "output_type": "display_data"
    }
   ],
   "source": [
    "# Distribución de acuerdo a porcentaje de aumento salarial\n",
    "sns.histplot(x = \"percent_salary_hike\", \n",
    "             data =df, \n",
    "             color = \"violet\", \n",
    "             kde = True,\n",
    "             bins = 20 );\n",
    "\n"
   ]
  },
  {
   "cell_type": "code",
   "execution_count": 208,
   "metadata": {},
   "outputs": [
    {
     "data": {
      "image/png": "[encoded data removed]",
      "text/plain": [
       "<Figure size 432x288 with 1 Axes>"
      ]
     },
     "metadata": {
      "needs_background": "light"
     },
     "output_type": "display_data"
    }
   ],
   "source": [
    "4. # Relación entre el ingreso mensual y la tasa mensual, es casi horizontal asi que no hay una relación directa solo que al aumentar el ingreso tambien la tasa\n",
    "sns.regplot(x = \"monthly_income\", \n",
    "            y = \"monthly_rate\", \n",
    "            data = df, \n",
    "            marker = \"d\", \n",
    "            line_kws = {\"color\": \"black\", \"linewidth\": 1}, # cambiamos el color y el grosor de la linea de tendencia\n",
    "            scatter_kws = {\"color\": \"teal\", \"s\": 1} # cambiamos el color y el tamaño de los puntos del scaterplot\n",
    "            )\n",
    "\n",
    "# cambiamos los nombres de los ejes como hemos estado haciendo hasta ahora\n",
    "plt.xlabel(\"Ingreso mensual\", fontsize = 8)\n",
    "plt.ylabel(\"Tasa mensual\", fontsize = 8)\n",
    "\n",
    "# ponemos título a la gráfica\n",
    "plt.title(\"Ingreso mensual y la tasa mensual\", fontsize = 8);"
   ]
  },
  {
   "cell_type": "code",
   "execution_count": null,
   "metadata": {},
   "outputs": [],
   "source": [
    "# Seguimos buscando relación entre estas variables \n",
    "datos_sueldo1[\"ratio\"] = datos_sueldo1[\"monthly_income\"] / datos_sueldo1[\"monthly_rate\"]"
   ]
  },
  {
   "cell_type": "code",
   "execution_count": 247,
   "metadata": {},
   "outputs": [
    {
     "data": {
      "text/html": [
       "<div>\n",
       "<style scoped>\n",
       "    .dataframe tbody tr th:only-of-type {\n",
       "        vertical-align: middle;\n",
       "    }\n",
       "\n",
       "    .dataframe tbody tr th {\n",
       "        vertical-align: top;\n",
       "    }\n",
       "\n",
       "    .dataframe thead th {\n",
       "        text-align: right;\n",
       "    }\n",
       "</style>\n",
       "<table border=\"1\" class=\"dataframe\">\n",
       "  <thead>\n",
       "    <tr style=\"text-align: right;\">\n",
       "      <th></th>\n",
       "      <th>daily_rate</th>\n",
       "      <th>hourly_rate</th>\n",
       "      <th>percent_salary_hike</th>\n",
       "      <th>monthly_income</th>\n",
       "      <th>monthly_rate</th>\n",
       "      <th>ratio</th>\n",
       "    </tr>\n",
       "  </thead>\n",
       "  <tbody>\n",
       "    <tr>\n",
       "      <th>count</th>\n",
       "      <td>1490.000000</td>\n",
       "      <td>1530.000000</td>\n",
       "      <td>1614.000000</td>\n",
       "      <td>771.000000</td>\n",
       "      <td>1614.000000</td>\n",
       "      <td>771.000000</td>\n",
       "    </tr>\n",
       "    <tr>\n",
       "      <th>mean</th>\n",
       "      <td>802.085235</td>\n",
       "      <td>66.028105</td>\n",
       "      <td>0.151654</td>\n",
       "      <td>6477.686122</td>\n",
       "      <td>14284.495663</td>\n",
       "      <td>0.672283</td>\n",
       "    </tr>\n",
       "    <tr>\n",
       "      <th>std</th>\n",
       "      <td>403.246954</td>\n",
       "      <td>20.185954</td>\n",
       "      <td>0.036486</td>\n",
       "      <td>4766.119959</td>\n",
       "      <td>7110.414585</td>\n",
       "      <td>0.819032</td>\n",
       "    </tr>\n",
       "    <tr>\n",
       "      <th>min</th>\n",
       "      <td>103.000000</td>\n",
       "      <td>30.000000</td>\n",
       "      <td>0.110000</td>\n",
       "      <td>1009.000000</td>\n",
       "      <td>2094.000000</td>\n",
       "      <td>0.037372</td>\n",
       "    </tr>\n",
       "    <tr>\n",
       "      <th>25%</th>\n",
       "      <td>468.250000</td>\n",
       "      <td>48.000000</td>\n",
       "      <td>0.120000</td>\n",
       "      <td>2880.000000</td>\n",
       "      <td>8001.000000</td>\n",
       "      <td>0.223792</td>\n",
       "    </tr>\n",
       "    <tr>\n",
       "      <th>50%</th>\n",
       "      <td>798.000000</td>\n",
       "      <td>66.000000</td>\n",
       "      <td>0.140000</td>\n",
       "      <td>4859.000000</td>\n",
       "      <td>14248.500000</td>\n",
       "      <td>0.407999</td>\n",
       "    </tr>\n",
       "    <tr>\n",
       "      <th>75%</th>\n",
       "      <td>1157.000000</td>\n",
       "      <td>84.000000</td>\n",
       "      <td>0.180000</td>\n",
       "      <td>8230.500000</td>\n",
       "      <td>20364.000000</td>\n",
       "      <td>0.770353</td>\n",
       "    </tr>\n",
       "    <tr>\n",
       "      <th>max</th>\n",
       "      <td>1499.000000</td>\n",
       "      <td>100.000000</td>\n",
       "      <td>0.250000</td>\n",
       "      <td>19999.000000</td>\n",
       "      <td>26999.000000</td>\n",
       "      <td>7.806381</td>\n",
       "    </tr>\n",
       "  </tbody>\n",
       "</table>\n",
       "</div>"
      ],
      "text/plain": [
       "        daily_rate  hourly_rate  percent_salary_hike  monthly_income  \\\n",
       "count  1490.000000  1530.000000          1614.000000      771.000000   \n",
       "mean    802.085235    66.028105             0.151654     6477.686122   \n",
       "std     403.246954    20.185954             0.036486     4766.119959   \n",
       "min     103.000000    30.000000             0.110000     1009.000000   \n",
       "25%     468.250000    48.000000             0.120000     2880.000000   \n",
       "50%     798.000000    66.000000             0.140000     4859.000000   \n",
       "75%    1157.000000    84.000000             0.180000     8230.500000   \n",
       "max    1499.000000   100.000000             0.250000    19999.000000   \n",
       "\n",
       "       monthly_rate       ratio  \n",
       "count   1614.000000  771.000000  \n",
       "mean   14284.495663    0.672283  \n",
       "std     7110.414585    0.819032  \n",
       "min     2094.000000    0.037372  \n",
       "25%     8001.000000    0.223792  \n",
       "50%    14248.500000    0.407999  \n",
       "75%    20364.000000    0.770353  \n",
       "max    26999.000000    7.806381  "
      ]
     },
     "execution_count": 247,
     "metadata": {},
     "output_type": "execute_result"
    }
   ],
   "source": [
    "datos_sueldo1.describe()"
   ]
  },
  {
   "cell_type": "code",
   "execution_count": 249,
   "metadata": {},
   "outputs": [
    {
     "data": {
      "image/png": "[encoded data removed]",
      "text/plain": [
       "<Figure size 432x288 with 1 Axes>"
      ]
     },
     "metadata": {
      "needs_background": "light"
     },
     "output_type": "display_data"
    }
   ],
   "source": [
    "# Distribución de acuerdo \"monthly_income\"/'monthly_rate'\n",
    "sns.histplot(x = \"ratio\", \n",
    "             data =datos_sueldo1, \n",
    "             color = \"violet\", \n",
    "             kde = True,\n",
    "             bins = 20 );"
   ]
  },
  {
   "cell_type": "code",
   "execution_count": 255,
   "metadata": {},
   "outputs": [
    {
     "data": {
      "text/plain": [
       "(0.0, 2.0)"
      ]
     },
     "execution_count": 255,
     "metadata": {},
     "output_type": "execute_result"
    },
    {
     "data": {
      "image/png": "[encoded data removed]",
      "text/plain": [
       "<Figure size 1440x360 with 2 Axes>"
      ]
     },
     "metadata": {
      "needs_background": "light"
     },
     "output_type": "display_data"
    }
   ],
   "source": [
    "# empezamos creando el subplot con el número de gráficas deseadas en su interior\n",
    "fig, axes = plt.subplots(nrows = 1, ncols = 2, figsize = (20, 5))\n",
    "\n",
    "# añadimos un boxplot usando el método 'sns.boxplot()'\n",
    "sns.boxplot(y = \"ratio\", \n",
    "            data = datos_sueldo1, \n",
    "            width = 0.5, \n",
    "            color = \"turquoise\", \n",
    "            ax = axes[0])\n",
    "\n",
    "# añadimos un título a esta primera gráfica usando el método '.set_title()\n",
    "axes[0].set_title(\"Boxplot usando la columna `ratio'\")\n",
    "\n",
    "\n",
    "# CREAMOS EL VIOLINPLOT USANDO SEABORN\n",
    "# añadimos un violinplot usando el método 'sns.violinplot()'. COMO ES SEABORN, USAMOS EL PARÁMETRO 'ax' PARA INDICAR EN QUE EJE DE LA FIGURA LO QUEREMOS \n",
    "sns.violinplot(y = \"ratio\", \n",
    "               data = datos_sueldo1, \n",
    "               width = 0.5, \n",
    "               color = \"turquoise\", \n",
    "               linewidth = 2, \n",
    "               ax = axes[1])\n",
    "\n",
    "# añadimos un título a esta primera gráfica usando el método '.set_title()\n",
    "axes[1].set_title(\"Violinplot usando la columna `ratio'\")\n",
    "\n",
    "\n",
    "# como ya sabemos que tenemos muchos outliers, vamos a usar el método '.set_ylim()' para \"eliminar\" los valores atípicos de la visualización\n",
    "axes[0].set_ylim([0,2])\n",
    "axes[1].set_ylim([0,2])"
   ]
  },
  {
   "cell_type": "code",
   "execution_count": 256,
   "metadata": {},
   "outputs": [
    {
     "data": {
      "image/png": "[encoded data removed]",
      "text/plain": [
       "<Figure size 432x288 with 1 Axes>"
      ]
     },
     "metadata": {
      "needs_background": "light"
     },
     "output_type": "display_data"
    }
   ],
   "source": [
    "# No existe relacion considerable entre el ingreso mensual  y el % de aumento salarial\n",
    "sns.regplot(x = \"monthly_income\", \n",
    "            y = \"percent_salary_hike\", \n",
    "            data = df, \n",
    "            marker = \"d\", \n",
    "            line_kws = {\"color\": \"black\", \"linewidth\": 1}, # cambiamos el color y el grosor de la linea de tendencia\n",
    "            scatter_kws = {\"color\": \"teal\", \"s\": 1} # cambiamos el color y el tamaño de los puntos del scaterplot\n",
    "            )\n",
    "\n",
    "# cambiamos los nombres de los ejes como hemos estado haciendo hasta ahora\n",
    "plt.xlabel(\"ingreso mensual\")\n",
    "plt.ylabel(\"porcentaje aumento salarial\")\n",
    "\n",
    "# ponemos título a la gráfica\n",
    "plt.title(\"Relación entre el ingreso mensual y el % de aumento salarial\")\n",
    "\n",
    "# quitamos la linea de arriba y de la derecha\n",
    "plt.gca().spines['right'].set_visible(False) # quitamos la línea de la derecha\n",
    "plt.gca().spines[\"top\"].set_visible(False) # quitamos la línea de arriba;"
   ]
  },
  {
   "cell_type": "markdown",
   "metadata": {},
   "source": [
    "\"daily_rate\",\n",
    "    \"hourly_rate\",\n",
    "    \"same_as_monthly_income\",\n",
    "    \"salary\",\n",
    "    \"percent_salary_hike\",\n",
    "    \"monthly_income\",\n",
    "    \"monthly_rate\""
   ]
  },
  {
   "cell_type": "code",
   "execution_count": null,
   "metadata": {},
   "outputs": [],
   "source": [
    "# Seguimos buscando relación entre estas variables, consideramos que se trabajan 40 horas a la semana 20 dias al mes y que la tasa mensual se suma al salario final\n",
    "\n",
    "datos_sueldo1[\"salario_mes_daily_rate\"] = (datos_sueldo1[\"daily_rate\"]*20 + datos_sueldo1[\"monthly_rate\"])\n",
    "datos_sueldo1"
   ]
  },
  {
   "cell_type": "code",
   "execution_count": 292,
   "metadata": {},
   "outputs": [
    {
     "data": {
      "image/png": "[encoded data removed]",
      "text/plain": [
       "<Figure size 432x288 with 1 Axes>"
      ]
     },
     "metadata": {
      "needs_background": "light"
     },
     "output_type": "display_data"
    }
   ],
   "source": [
    "# No existe relacion considerable entre el ingreso mensual  y el % de aumento salarial parece que no tienen gran relación\n",
    "sns.regplot(x = \"monthly_income\", \n",
    "            y = \"salario_mes_daily_rate\", \n",
    "            data = datos_sueldo1, \n",
    "            marker = \"d\", \n",
    "            line_kws = {\"color\": \"black\", \"linewidth\": 1}, # cambiamos el color y el grosor de la linea de tendencia\n",
    "            scatter_kws = {\"color\": \"teal\", \"s\": 1} # cambiamos el color y el tamaño de los puntos del scaterplot\n",
    "            )\n",
    "\n",
    "# cambiamos los nombres de los ejes como hemos estado haciendo hasta ahora\n",
    "plt.xlabel(\"ingreso mensual\")\n",
    "plt.ylabel(\"porcentaje aumento salarial\")\n",
    "\n",
    "# ponemos título a la gráfica\n",
    "plt.title(\"Relación entre el ingreso mensual y el % de aumento salarial\")\n",
    "\n",
    "# quitamos la linea de arriba y de la derecha\n",
    "plt.gca().spines['right'].set_visible(False) # quitamos la línea de la derecha\n",
    "plt.gca().spines[\"top\"].set_visible(False) # quitamos la línea de arriba;"
   ]
  },
  {
   "cell_type": "code",
   "execution_count": 298,
   "metadata": {},
   "outputs": [
    {
     "name": "stderr",
     "output_type": "stream",
     "text": [
      "/tmp/ipykernel_8178/3164288646.py:1: SettingWithCopyWarning: \n",
      "A value is trying to be set on a copy of a slice from a DataFrame.\n",
      "Try using .loc[row_indexer,col_indexer] = value instead\n",
      "\n",
      "See the caveats in the documentation: https://pandas.pydata.org/pandas-docs/stable/user_guide/indexing.html#returning-a-view-versus-a-copy\n",
      "  datos_sueldo1[\"salario_mes_daily_rate%\"] =100*((datos_sueldo1[\"daily_rate\"]*20 + datos_sueldo1[\"monthly_rate\"])-datos_sueldo1[\"monthly_income\"])/datos_sueldo1[\"monthly_income\"]\n"
     ]
    },
    {
     "data": {
      "text/plain": [
       "0         3.096688\n",
       "1        -1.705085\n",
       "2       -19.025582\n",
       "3        97.349875\n",
       "4              NaN\n",
       "           ...    \n",
       "1609     56.106538\n",
       "1610    782.909827\n",
       "1611           NaN\n",
       "1612           NaN\n",
       "1613    227.597971\n",
       "Name: salario_mes_daily_rate%, Length: 1614, dtype: float64"
      ]
     },
     "execution_count": 298,
     "metadata": {},
     "output_type": "execute_result"
    }
   ],
   "source": [
    "datos_sueldo1[\"salario_mes_daily_rate%\"] =100*((datos_sueldo1[\"daily_rate\"]*20 + datos_sueldo1[\"monthly_rate\"])-datos_sueldo1[\"monthly_income\"])/datos_sueldo1[\"monthly_income\"]\n",
    "datos_sueldo1[\"salario_mes_daily_rate%\"]"
   ]
  },
  {
   "cell_type": "code",
   "execution_count": 297,
   "metadata": {},
   "outputs": [
    {
     "data": {
      "text/html": [
       "<div>\n",
       "<style scoped>\n",
       "    .dataframe tbody tr th:only-of-type {\n",
       "        vertical-align: middle;\n",
       "    }\n",
       "\n",
       "    .dataframe tbody tr th {\n",
       "        vertical-align: top;\n",
       "    }\n",
       "\n",
       "    .dataframe thead th {\n",
       "        text-align: right;\n",
       "    }\n",
       "</style>\n",
       "<table border=\"1\" class=\"dataframe\">\n",
       "  <thead>\n",
       "    <tr style=\"text-align: right;\">\n",
       "      <th></th>\n",
       "      <th>daily_rate</th>\n",
       "      <th>hourly_rate</th>\n",
       "      <th>percent_salary_hike</th>\n",
       "      <th>monthly_income</th>\n",
       "      <th>monthly_rate</th>\n",
       "      <th>ratio</th>\n",
       "      <th>salario_mes_daily_rate</th>\n",
       "      <th>salario_mes_daily_rate%</th>\n",
       "    </tr>\n",
       "  </thead>\n",
       "  <tbody>\n",
       "    <tr>\n",
       "      <th>count</th>\n",
       "      <td>1490.000000</td>\n",
       "      <td>1530.000000</td>\n",
       "      <td>1614.000000</td>\n",
       "      <td>771.000000</td>\n",
       "      <td>1614.000000</td>\n",
       "      <td>771.000000</td>\n",
       "      <td>1490.000000</td>\n",
       "      <td>704.000000</td>\n",
       "    </tr>\n",
       "    <tr>\n",
       "      <th>mean</th>\n",
       "      <td>802.085235</td>\n",
       "      <td>66.028105</td>\n",
       "      <td>0.151654</td>\n",
       "      <td>6477.686122</td>\n",
       "      <td>14284.495663</td>\n",
       "      <td>0.672283</td>\n",
       "      <td>30285.706711</td>\n",
       "      <td>592.645497</td>\n",
       "    </tr>\n",
       "    <tr>\n",
       "      <th>std</th>\n",
       "      <td>403.246954</td>\n",
       "      <td>20.185954</td>\n",
       "      <td>0.036486</td>\n",
       "      <td>4766.119959</td>\n",
       "      <td>7110.414585</td>\n",
       "      <td>0.819032</td>\n",
       "      <td>10623.080296</td>\n",
       "      <td>535.758270</td>\n",
       "    </tr>\n",
       "    <tr>\n",
       "      <th>min</th>\n",
       "      <td>103.000000</td>\n",
       "      <td>30.000000</td>\n",
       "      <td>0.110000</td>\n",
       "      <td>1009.000000</td>\n",
       "      <td>2094.000000</td>\n",
       "      <td>0.037372</td>\n",
       "      <td>4777.000000</td>\n",
       "      <td>-72.184698</td>\n",
       "    </tr>\n",
       "    <tr>\n",
       "      <th>25%</th>\n",
       "      <td>468.250000</td>\n",
       "      <td>48.000000</td>\n",
       "      <td>0.120000</td>\n",
       "      <td>2880.000000</td>\n",
       "      <td>8001.000000</td>\n",
       "      <td>0.223792</td>\n",
       "      <td>22845.250000</td>\n",
       "      <td>219.461217</td>\n",
       "    </tr>\n",
       "    <tr>\n",
       "      <th>50%</th>\n",
       "      <td>798.000000</td>\n",
       "      <td>66.000000</td>\n",
       "      <td>0.140000</td>\n",
       "      <td>4859.000000</td>\n",
       "      <td>14248.500000</td>\n",
       "      <td>0.407999</td>\n",
       "      <td>30617.000000</td>\n",
       "      <td>466.102381</td>\n",
       "    </tr>\n",
       "    <tr>\n",
       "      <th>75%</th>\n",
       "      <td>1157.000000</td>\n",
       "      <td>84.000000</td>\n",
       "      <td>0.180000</td>\n",
       "      <td>8230.500000</td>\n",
       "      <td>20364.000000</td>\n",
       "      <td>0.770353</td>\n",
       "      <td>37681.750000</td>\n",
       "      <td>842.087987</td>\n",
       "    </tr>\n",
       "    <tr>\n",
       "      <th>max</th>\n",
       "      <td>1499.000000</td>\n",
       "      <td>100.000000</td>\n",
       "      <td>0.250000</td>\n",
       "      <td>19999.000000</td>\n",
       "      <td>26999.000000</td>\n",
       "      <td>7.806381</td>\n",
       "      <td>56382.000000</td>\n",
       "      <td>5275.520317</td>\n",
       "    </tr>\n",
       "  </tbody>\n",
       "</table>\n",
       "</div>"
      ],
      "text/plain": [
       "        daily_rate  hourly_rate  percent_salary_hike  monthly_income  \\\n",
       "count  1490.000000  1530.000000          1614.000000      771.000000   \n",
       "mean    802.085235    66.028105             0.151654     6477.686122   \n",
       "std     403.246954    20.185954             0.036486     4766.119959   \n",
       "min     103.000000    30.000000             0.110000     1009.000000   \n",
       "25%     468.250000    48.000000             0.120000     2880.000000   \n",
       "50%     798.000000    66.000000             0.140000     4859.000000   \n",
       "75%    1157.000000    84.000000             0.180000     8230.500000   \n",
       "max    1499.000000   100.000000             0.250000    19999.000000   \n",
       "\n",
       "       monthly_rate       ratio  salario_mes_daily_rate  \\\n",
       "count   1614.000000  771.000000             1490.000000   \n",
       "mean   14284.495663    0.672283            30285.706711   \n",
       "std     7110.414585    0.819032            10623.080296   \n",
       "min     2094.000000    0.037372             4777.000000   \n",
       "25%     8001.000000    0.223792            22845.250000   \n",
       "50%    14248.500000    0.407999            30617.000000   \n",
       "75%    20364.000000    0.770353            37681.750000   \n",
       "max    26999.000000    7.806381            56382.000000   \n",
       "\n",
       "       salario_mes_daily_rate%  \n",
       "count               704.000000  \n",
       "mean                592.645497  \n",
       "std                 535.758270  \n",
       "min                 -72.184698  \n",
       "25%                 219.461217  \n",
       "50%                 466.102381  \n",
       "75%                 842.087987  \n",
       "max                5275.520317  "
      ]
     },
     "execution_count": 297,
     "metadata": {},
     "output_type": "execute_result"
    }
   ],
   "source": [
    "datos_sueldo1.describe()"
   ]
  },
  {
   "cell_type": "code",
   "execution_count": 299,
   "metadata": {},
   "outputs": [
    {
     "data": {
      "image/png": "[encoded data removed]",
      "text/plain": [
       "<Figure size 432x288 with 1 Axes>"
      ]
     },
     "metadata": {
      "needs_background": "light"
     },
     "output_type": "display_data"
    }
   ],
   "source": [
    "# Distribución de acuerdo a salario mensual\n",
    "sns.histplot(x = \"salario_mes_daily_rate%\", \n",
    "             data =datos_sueldo1, \n",
    "             color = \"violet\", \n",
    "             kde = True,\n",
    "             bins = 20 );"
   ]
  },
  {
   "cell_type": "code",
   "execution_count": 301,
   "metadata": {},
   "outputs": [
    {
     "data": {
      "text/plain": [
       "(0.0, 50.0)"
      ]
     },
     "execution_count": 301,
     "metadata": {},
     "output_type": "execute_result"
    },
    {
     "data": {
      "image/png": "[encoded data removed]",
      "text/plain": [
       "<Figure size 2160x576 with 2 Axes>"
      ]
     },
     "metadata": {
      "needs_background": "light"
     },
     "output_type": "display_data"
    }
   ],
   "source": [
    "# empezamos creando el subplot con el número de gráficas deseadas en su interior\n",
    "fig, axes = plt.subplots(nrows = 1, ncols = 2, figsize = (30, 8))\n",
    "\n",
    "# añadimos un boxplot usando el método 'sns.boxplot()'\n",
    "sns.boxplot(y = \"salario_mes_daily_rate%\", \n",
    "            data = datos_sueldo1, \n",
    "            width = 0.5, \n",
    "            color = \"turquoise\", \n",
    "            ax = axes[0])\n",
    "\n",
    "# añadimos un título a esta primera gráfica usando el método '.set_title()\n",
    "axes[0].set_title(\"Boxplot usando la columna `salario_mes_daily_rate%''\")\n",
    "\n",
    "\n",
    "# CREAMOS EL VIOLINPLOT USANDO SEABORN\n",
    "# añadimos un violinplot usando el método 'sns.violinplot()'. COMO ES SEABORN, USAMOS EL PARÁMETRO 'ax' PARA INDICAR EN QUE EJE DE LA FIGURA LO QUEREMOS \n",
    "sns.violinplot(y = \"salario_mes_daily_rate%\", \n",
    "               data = datos_sueldo1, \n",
    "               width = 0.5, \n",
    "               color = \"turquoise\", \n",
    "               linewidth = 2, \n",
    "               ax = axes[1])\n",
    "\n",
    "# añadimos un título a esta primera gráfica usando el método '.set_title()\n",
    "axes[1].set_title(\"Violinplot usando la columna `salario_mes_daily_rate%'\")\n",
    "\n",
    "\n",
    "# como ya sabemos que tenemos muchos outliers, vamos a usar el método '.set_ylim()' para \"eliminar\" los valores atípicos de la visualización\n",
    "axes[0].set_ylim([0,50])\n",
    "axes[1].set_ylim([0,50])"
   ]
  }
 ],
 "metadata": {
  "kernelspec": {
   "display_name": "base",
   "language": "python",
   "name": "python3"
  },
  "language_info": {
   "codemirror_mode": {
    "name": "ipython",
    "version": 3
   },
   "file_extension": ".py",
   "mimetype": "text/x-python",
   "name": "python",
   "nbconvert_exporter": "python",
   "pygments_lexer": "ipython3",
   "version": "3.9.7"
  }
 },
 "nbformat": 4,
 "nbformat_minor": 2
}
