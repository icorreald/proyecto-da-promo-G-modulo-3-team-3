{
 "cells": [
  {
   "cell_type": "code",
   "execution_count": 295,
   "metadata": {},
   "outputs": [],
   "source": [
    "import pandas as pd\n",
    "import numpy as np\n",
    "# Cargar los datos desde el archivo CSV\n",
    "df = pd.read_csv('HR RAW DATA.csv')\n",
    "\n",
    "# Mostrar las primeras filas del DataFrame para entender la estructura de los datos\n"
   ]
  },
  {
   "cell_type": "code",
   "execution_count": 296,
   "metadata": {},
   "outputs": [
    {
     "data": {
      "text/plain": [
       "(1614, 42)"
      ]
     },
     "execution_count": 296,
     "metadata": {},
     "output_type": "execute_result"
    }
   ],
   "source": [
    "# Compruebo el numero de filas y columnas\n",
    "df.shape"
   ]
  },
  {
   "cell_type": "code",
   "execution_count": 297,
   "metadata": {},
   "outputs": [
    {
     "data": {
      "text/plain": [
       "0"
      ]
     },
     "execution_count": 297,
     "metadata": {},
     "output_type": "execute_result"
    }
   ],
   "source": [
    "# Reviso que el Df no tenga duplicados\n",
    "df.duplicated().sum()"
   ]
  },
  {
   "cell_type": "markdown",
   "metadata": {},
   "source": [
    "Los titulos de todas las columnas del df se cambiaran de manera conjunta"
   ]
  },
  {
   "cell_type": "markdown",
   "metadata": {},
   "source": [
    "ANALISIS DE COLUMNAS DE LA 21 A LA 30 PRIMERO REALIZO UNA PRIMERA VISUALIZACION DEL CONJUNTO"
   ]
  },
  {
   "cell_type": "code",
   "execution_count": 298,
   "metadata": {},
   "outputs": [
    {
     "data": {
      "text/html": [
       "<div>\n",
       "<style scoped>\n",
       "    .dataframe tbody tr th:only-of-type {\n",
       "        vertical-align: middle;\n",
       "    }\n",
       "\n",
       "    .dataframe tbody tr th {\n",
       "        vertical-align: top;\n",
       "    }\n",
       "\n",
       "    .dataframe thead th {\n",
       "        text-align: right;\n",
       "    }\n",
       "</style>\n",
       "<table border=\"1\" class=\"dataframe\">\n",
       "  <thead>\n",
       "    <tr style=\"text-align: right;\">\n",
       "      <th></th>\n",
       "      <th>NUMCOMPANIESWORKED</th>\n",
       "      <th>Over18</th>\n",
       "      <th>OverTime</th>\n",
       "      <th>PercentSalaryHike</th>\n",
       "      <th>PerformanceRating</th>\n",
       "      <th>RelationshipSatisfaction</th>\n",
       "      <th>StandardHours</th>\n",
       "      <th>StockOptionLevel</th>\n",
       "      <th>TOTALWORKINGYEARS</th>\n",
       "      <th>TrainingTimesLastYear</th>\n",
       "    </tr>\n",
       "  </thead>\n",
       "  <tbody>\n",
       "    <tr>\n",
       "      <th>0</th>\n",
       "      <td>7</td>\n",
       "      <td>Y</td>\n",
       "      <td>No</td>\n",
       "      <td>13</td>\n",
       "      <td>3,0</td>\n",
       "      <td>3</td>\n",
       "      <td>NaN</td>\n",
       "      <td>0</td>\n",
       "      <td>NaN</td>\n",
       "      <td>5</td>\n",
       "    </tr>\n",
       "    <tr>\n",
       "      <th>1</th>\n",
       "      <td>0</td>\n",
       "      <td>NaN</td>\n",
       "      <td>NaN</td>\n",
       "      <td>14</td>\n",
       "      <td>3,0</td>\n",
       "      <td>1</td>\n",
       "      <td>NaN</td>\n",
       "      <td>1</td>\n",
       "      <td>34,0</td>\n",
       "      <td>5</td>\n",
       "    </tr>\n",
       "    <tr>\n",
       "      <th>2</th>\n",
       "      <td>1</td>\n",
       "      <td>NaN</td>\n",
       "      <td>No</td>\n",
       "      <td>11</td>\n",
       "      <td>3,0</td>\n",
       "      <td>4</td>\n",
       "      <td>NaN</td>\n",
       "      <td>0</td>\n",
       "      <td>22,0</td>\n",
       "      <td>3</td>\n",
       "    </tr>\n",
       "    <tr>\n",
       "      <th>3</th>\n",
       "      <td>3</td>\n",
       "      <td>Y</td>\n",
       "      <td>NaN</td>\n",
       "      <td>19</td>\n",
       "      <td>3,0</td>\n",
       "      <td>2</td>\n",
       "      <td>NaN</td>\n",
       "      <td>2</td>\n",
       "      <td>NaN</td>\n",
       "      <td>2</td>\n",
       "    </tr>\n",
       "    <tr>\n",
       "      <th>4</th>\n",
       "      <td>2</td>\n",
       "      <td>Y</td>\n",
       "      <td>No</td>\n",
       "      <td>12</td>\n",
       "      <td>3,0</td>\n",
       "      <td>4</td>\n",
       "      <td>NaN</td>\n",
       "      <td>1</td>\n",
       "      <td>NaN</td>\n",
       "      <td>5</td>\n",
       "    </tr>\n",
       "    <tr>\n",
       "      <th>...</th>\n",
       "      <td>...</td>\n",
       "      <td>...</td>\n",
       "      <td>...</td>\n",
       "      <td>...</td>\n",
       "      <td>...</td>\n",
       "      <td>...</td>\n",
       "      <td>...</td>\n",
       "      <td>...</td>\n",
       "      <td>...</td>\n",
       "      <td>...</td>\n",
       "    </tr>\n",
       "    <tr>\n",
       "      <th>1609</th>\n",
       "      <td>1</td>\n",
       "      <td>Y</td>\n",
       "      <td>NaN</td>\n",
       "      <td>11</td>\n",
       "      <td>NaN</td>\n",
       "      <td>1</td>\n",
       "      <td>NaN</td>\n",
       "      <td>1</td>\n",
       "      <td>NaN</td>\n",
       "      <td>6</td>\n",
       "    </tr>\n",
       "    <tr>\n",
       "      <th>1610</th>\n",
       "      <td>1</td>\n",
       "      <td>NaN</td>\n",
       "      <td>NaN</td>\n",
       "      <td>12</td>\n",
       "      <td>3,0</td>\n",
       "      <td>2</td>\n",
       "      <td>NaN</td>\n",
       "      <td>0</td>\n",
       "      <td>NaN</td>\n",
       "      <td>5</td>\n",
       "    </tr>\n",
       "    <tr>\n",
       "      <th>1611</th>\n",
       "      <td>0</td>\n",
       "      <td>NaN</td>\n",
       "      <td>No</td>\n",
       "      <td>18</td>\n",
       "      <td>3,0</td>\n",
       "      <td>4</td>\n",
       "      <td>NaN</td>\n",
       "      <td>0</td>\n",
       "      <td>9,0</td>\n",
       "      <td>3</td>\n",
       "    </tr>\n",
       "    <tr>\n",
       "      <th>1612</th>\n",
       "      <td>4</td>\n",
       "      <td>NaN</td>\n",
       "      <td>No</td>\n",
       "      <td>13</td>\n",
       "      <td>NaN</td>\n",
       "      <td>4</td>\n",
       "      <td>NaN</td>\n",
       "      <td>2</td>\n",
       "      <td>12,0</td>\n",
       "      <td>3</td>\n",
       "    </tr>\n",
       "    <tr>\n",
       "      <th>1613</th>\n",
       "      <td>6</td>\n",
       "      <td>Y</td>\n",
       "      <td>NaN</td>\n",
       "      <td>13</td>\n",
       "      <td>3,0</td>\n",
       "      <td>2</td>\n",
       "      <td>NaN</td>\n",
       "      <td>1</td>\n",
       "      <td>NaN</td>\n",
       "      <td>3</td>\n",
       "    </tr>\n",
       "  </tbody>\n",
       "</table>\n",
       "<p>1614 rows × 10 columns</p>\n",
       "</div>"
      ],
      "text/plain": [
       "      NUMCOMPANIESWORKED Over18 OverTime  PercentSalaryHike PerformanceRating  \\\n",
       "0                      7      Y       No                 13               3,0   \n",
       "1                      0    NaN      NaN                 14               3,0   \n",
       "2                      1    NaN       No                 11               3,0   \n",
       "3                      3      Y      NaN                 19               3,0   \n",
       "4                      2      Y       No                 12               3,0   \n",
       "...                  ...    ...      ...                ...               ...   \n",
       "1609                   1      Y      NaN                 11               NaN   \n",
       "1610                   1    NaN      NaN                 12               3,0   \n",
       "1611                   0    NaN       No                 18               3,0   \n",
       "1612                   4    NaN       No                 13               NaN   \n",
       "1613                   6      Y      NaN                 13               3,0   \n",
       "\n",
       "      RelationshipSatisfaction StandardHours  StockOptionLevel  \\\n",
       "0                            3           NaN                 0   \n",
       "1                            1           NaN                 1   \n",
       "2                            4           NaN                 0   \n",
       "3                            2           NaN                 2   \n",
       "4                            4           NaN                 1   \n",
       "...                        ...           ...               ...   \n",
       "1609                         1           NaN                 1   \n",
       "1610                         2           NaN                 0   \n",
       "1611                         4           NaN                 0   \n",
       "1612                         4           NaN                 2   \n",
       "1613                         2           NaN                 1   \n",
       "\n",
       "     TOTALWORKINGYEARS  TrainingTimesLastYear  \n",
       "0                  NaN                      5  \n",
       "1                 34,0                      5  \n",
       "2                 22,0                      3  \n",
       "3                  NaN                      2  \n",
       "4                  NaN                      5  \n",
       "...                ...                    ...  \n",
       "1609               NaN                      6  \n",
       "1610               NaN                      5  \n",
       "1611               9,0                      3  \n",
       "1612              12,0                      3  \n",
       "1613               NaN                      3  \n",
       "\n",
       "[1614 rows x 10 columns]"
      ]
     },
     "execution_count": 298,
     "metadata": {},
     "output_type": "execute_result"
    }
   ],
   "source": [
    "df_columnas_21_30 = df.iloc[:, 21:31]\n",
    "df_columnas_21_30"
   ]
  },
  {
   "cell_type": "code",
   "execution_count": 299,
   "metadata": {},
   "outputs": [
    {
     "name": "stdout",
     "output_type": "stream",
     "text": [
      "<class 'pandas.core.frame.DataFrame'>\n",
      "RangeIndex: 1614 entries, 0 to 1613\n",
      "Data columns (total 10 columns):\n",
      " #   Column                    Non-Null Count  Dtype \n",
      "---  ------                    --------------  ----- \n",
      " 0   NUMCOMPANIESWORKED        1614 non-null   int64 \n",
      " 1   Over18                    713 non-null    object\n",
      " 2   OverTime                  938 non-null    object\n",
      " 3   PercentSalaryHike         1614 non-null   int64 \n",
      " 4   PerformanceRating         1419 non-null   object\n",
      " 5   RelationshipSatisfaction  1614 non-null   int64 \n",
      " 6   StandardHours             419 non-null    object\n",
      " 7   StockOptionLevel          1614 non-null   int64 \n",
      " 8   TOTALWORKINGYEARS         1088 non-null   object\n",
      " 9   TrainingTimesLastYear     1614 non-null   int64 \n",
      "dtypes: int64(5), object(5)\n",
      "memory usage: 126.2+ KB\n"
     ]
    }
   ],
   "source": [
    "df_columnas_21_30.info()"
   ]
  },
  {
   "cell_type": "code",
   "execution_count": 300,
   "metadata": {},
   "outputs": [
    {
     "data": {
      "text/plain": [
       "NUMCOMPANIESWORKED           int64\n",
       "Over18                      object\n",
       "OverTime                    object\n",
       "PercentSalaryHike            int64\n",
       "PerformanceRating           object\n",
       "RelationshipSatisfaction     int64\n",
       "StandardHours               object\n",
       "StockOptionLevel             int64\n",
       "TOTALWORKINGYEARS           object\n",
       "TrainingTimesLastYear        int64\n",
       "dtype: object"
      ]
     },
     "execution_count": 300,
     "metadata": {},
     "output_type": "execute_result"
    }
   ],
   "source": [
    "df_columnas_21_30.dtypes"
   ]
  },
  {
   "cell_type": "code",
   "execution_count": 301,
   "metadata": {},
   "outputs": [
    {
     "data": {
      "text/html": [
       "<div>\n",
       "<style scoped>\n",
       "    .dataframe tbody tr th:only-of-type {\n",
       "        vertical-align: middle;\n",
       "    }\n",
       "\n",
       "    .dataframe tbody tr th {\n",
       "        vertical-align: top;\n",
       "    }\n",
       "\n",
       "    .dataframe thead th {\n",
       "        text-align: right;\n",
       "    }\n",
       "</style>\n",
       "<table border=\"1\" class=\"dataframe\">\n",
       "  <thead>\n",
       "    <tr style=\"text-align: right;\">\n",
       "      <th></th>\n",
       "      <th>NUMCOMPANIESWORKED</th>\n",
       "      <th>PercentSalaryHike</th>\n",
       "      <th>RelationshipSatisfaction</th>\n",
       "      <th>StockOptionLevel</th>\n",
       "      <th>TrainingTimesLastYear</th>\n",
       "    </tr>\n",
       "  </thead>\n",
       "  <tbody>\n",
       "    <tr>\n",
       "      <th>count</th>\n",
       "      <td>1614.000000</td>\n",
       "      <td>1614.000000</td>\n",
       "      <td>1614.000000</td>\n",
       "      <td>1614.000000</td>\n",
       "      <td>1614.000000</td>\n",
       "    </tr>\n",
       "    <tr>\n",
       "      <th>mean</th>\n",
       "      <td>2.673482</td>\n",
       "      <td>15.165428</td>\n",
       "      <td>2.704461</td>\n",
       "      <td>0.791202</td>\n",
       "      <td>2.809789</td>\n",
       "    </tr>\n",
       "    <tr>\n",
       "      <th>std</th>\n",
       "      <td>2.506152</td>\n",
       "      <td>3.648610</td>\n",
       "      <td>1.079031</td>\n",
       "      <td>0.842396</td>\n",
       "      <td>1.297765</td>\n",
       "    </tr>\n",
       "    <tr>\n",
       "      <th>min</th>\n",
       "      <td>0.000000</td>\n",
       "      <td>11.000000</td>\n",
       "      <td>1.000000</td>\n",
       "      <td>0.000000</td>\n",
       "      <td>0.000000</td>\n",
       "    </tr>\n",
       "    <tr>\n",
       "      <th>25%</th>\n",
       "      <td>1.000000</td>\n",
       "      <td>12.000000</td>\n",
       "      <td>2.000000</td>\n",
       "      <td>0.000000</td>\n",
       "      <td>2.000000</td>\n",
       "    </tr>\n",
       "    <tr>\n",
       "      <th>50%</th>\n",
       "      <td>2.000000</td>\n",
       "      <td>14.000000</td>\n",
       "      <td>3.000000</td>\n",
       "      <td>1.000000</td>\n",
       "      <td>3.000000</td>\n",
       "    </tr>\n",
       "    <tr>\n",
       "      <th>75%</th>\n",
       "      <td>4.000000</td>\n",
       "      <td>18.000000</td>\n",
       "      <td>4.000000</td>\n",
       "      <td>1.000000</td>\n",
       "      <td>3.000000</td>\n",
       "    </tr>\n",
       "    <tr>\n",
       "      <th>max</th>\n",
       "      <td>9.000000</td>\n",
       "      <td>25.000000</td>\n",
       "      <td>4.000000</td>\n",
       "      <td>3.000000</td>\n",
       "      <td>6.000000</td>\n",
       "    </tr>\n",
       "  </tbody>\n",
       "</table>\n",
       "</div>"
      ],
      "text/plain": [
       "       NUMCOMPANIESWORKED  PercentSalaryHike  RelationshipSatisfaction  \\\n",
       "count         1614.000000        1614.000000               1614.000000   \n",
       "mean             2.673482          15.165428                  2.704461   \n",
       "std              2.506152           3.648610                  1.079031   \n",
       "min              0.000000          11.000000                  1.000000   \n",
       "25%              1.000000          12.000000                  2.000000   \n",
       "50%              2.000000          14.000000                  3.000000   \n",
       "75%              4.000000          18.000000                  4.000000   \n",
       "max              9.000000          25.000000                  4.000000   \n",
       "\n",
       "       StockOptionLevel  TrainingTimesLastYear  \n",
       "count       1614.000000            1614.000000  \n",
       "mean           0.791202               2.809789  \n",
       "std            0.842396               1.297765  \n",
       "min            0.000000               0.000000  \n",
       "25%            0.000000               2.000000  \n",
       "50%            1.000000               3.000000  \n",
       "75%            1.000000               3.000000  \n",
       "max            3.000000               6.000000  "
      ]
     },
     "execution_count": 301,
     "metadata": {},
     "output_type": "execute_result"
    }
   ],
   "source": [
    "# Resumen estadístico de las columnas numéricas count no nulas\n",
    "df_columnas_21_30.describe()"
   ]
  },
  {
   "cell_type": "code",
   "execution_count": 302,
   "metadata": {},
   "outputs": [
    {
     "data": {
      "text/html": [
       "<div>\n",
       "<style scoped>\n",
       "    .dataframe tbody tr th:only-of-type {\n",
       "        vertical-align: middle;\n",
       "    }\n",
       "\n",
       "    .dataframe tbody tr th {\n",
       "        vertical-align: top;\n",
       "    }\n",
       "\n",
       "    .dataframe thead th {\n",
       "        text-align: right;\n",
       "    }\n",
       "</style>\n",
       "<table border=\"1\" class=\"dataframe\">\n",
       "  <thead>\n",
       "    <tr style=\"text-align: right;\">\n",
       "      <th></th>\n",
       "      <th>count</th>\n",
       "      <th>unique</th>\n",
       "      <th>top</th>\n",
       "      <th>freq</th>\n",
       "    </tr>\n",
       "  </thead>\n",
       "  <tbody>\n",
       "    <tr>\n",
       "      <th>Over18</th>\n",
       "      <td>713</td>\n",
       "      <td>1</td>\n",
       "      <td>Y</td>\n",
       "      <td>713</td>\n",
       "    </tr>\n",
       "    <tr>\n",
       "      <th>OverTime</th>\n",
       "      <td>938</td>\n",
       "      <td>2</td>\n",
       "      <td>No</td>\n",
       "      <td>682</td>\n",
       "    </tr>\n",
       "    <tr>\n",
       "      <th>PerformanceRating</th>\n",
       "      <td>1419</td>\n",
       "      <td>2</td>\n",
       "      <td>3,0</td>\n",
       "      <td>1205</td>\n",
       "    </tr>\n",
       "    <tr>\n",
       "      <th>StandardHours</th>\n",
       "      <td>419</td>\n",
       "      <td>1</td>\n",
       "      <td>80,0</td>\n",
       "      <td>419</td>\n",
       "    </tr>\n",
       "    <tr>\n",
       "      <th>TOTALWORKINGYEARS</th>\n",
       "      <td>1088</td>\n",
       "      <td>40</td>\n",
       "      <td>10,0</td>\n",
       "      <td>144</td>\n",
       "    </tr>\n",
       "  </tbody>\n",
       "</table>\n",
       "</div>"
      ],
      "text/plain": [
       "                  count unique   top  freq\n",
       "Over18              713      1     Y   713\n",
       "OverTime            938      2    No   682\n",
       "PerformanceRating  1419      2   3,0  1205\n",
       "StandardHours       419      1  80,0   419\n",
       "TOTALWORKINGYEARS  1088     40  10,0   144"
      ]
     },
     "execution_count": 302,
     "metadata": {},
     "output_type": "execute_result"
    }
   ],
   "source": [
    "# count = no nulos, unique = cantidad de valor unico, Top= valor mas comun  freq=frecuencia del valor mas comun\n",
    "df_columnas_21_30.describe(include = \"object\").T"
   ]
  },
  {
   "cell_type": "markdown",
   "metadata": {},
   "source": [
    "1.  NumCompaniesWorked: Número de compañías en las que el empleado ha trabajado.\"NUMCOMPANIESWORKED\" entero sin datos nulos, la mayoria de valores estan el rango de 0 a 4 compañias donde el empleado ha trabajado (79%), y el resto en 5, 6, 7, 8 y 9 compañías. No hay valores negativos.  No realizamos cambios\n"
   ]
  },
  {
   "cell_type": "code",
   "execution_count": 303,
   "metadata": {},
   "outputs": [
    {
     "data": {
      "text/plain": [
       "array([7, 0, 1, 3, 2, 4, 8, 9, 5, 6])"
      ]
     },
     "execution_count": 303,
     "metadata": {},
     "output_type": "execute_result"
    }
   ],
   "source": [
    "df_columnas_21_30[\"NUMCOMPANIESWORKED\"].unique()\n"
   ]
  },
  {
   "cell_type": "code",
   "execution_count": 304,
   "metadata": {},
   "outputs": [
    {
     "data": {
      "text/plain": [
       "1    573\n",
       "0    226\n",
       "3    169\n",
       "4    157\n",
       "2    156\n",
       "7     84\n",
       "6     73\n",
       "5     66\n",
       "9     59\n",
       "8     51\n",
       "Name: NUMCOMPANIESWORKED, dtype: int64"
      ]
     },
     "execution_count": 304,
     "metadata": {},
     "output_type": "execute_result"
    }
   ],
   "source": [
    "\n",
    "df_columnas_21_30[\"NUMCOMPANIESWORKED\"].value_counts()"
   ]
  },
  {
   "cell_type": "markdown",
   "metadata": {},
   "source": [
    "2.  Over18: Indica si el empleado es mayor de 18 años. \"Over18\"- Revisar porque el 56% de los datos son NaN para personas con mas de 18 años.  Etiquetamos los desconocidos."
   ]
  },
  {
   "cell_type": "code",
   "execution_count": 305,
   "metadata": {},
   "outputs": [],
   "source": [
    "df_columnas_21_30['Over18'] = df_columnas_21_30['Over18'].replace({'Y': True, 'No': False, np.nan: \"Desconocido\" })"
   ]
  },
  {
   "cell_type": "code",
   "execution_count": 306,
   "metadata": {},
   "outputs": [
    {
     "data": {
      "text/plain": [
       "array([True, 'Desconocido'], dtype=object)"
      ]
     },
     "execution_count": 306,
     "metadata": {},
     "output_type": "execute_result"
    }
   ],
   "source": [
    "df_columnas_21_30['Over18'].unique()"
   ]
  },
  {
   "cell_type": "code",
   "execution_count": 307,
   "metadata": {},
   "outputs": [
    {
     "data": {
      "text/plain": [
       "array([True, 'Desconocido'], dtype=object)"
      ]
     },
     "execution_count": 307,
     "metadata": {},
     "output_type": "execute_result"
    }
   ],
   "source": [
    "df_columnas_21_30[\"Over18\"].unique()"
   ]
  },
  {
   "cell_type": "code",
   "execution_count": 308,
   "metadata": {},
   "outputs": [
    {
     "data": {
      "text/plain": [
       "Desconocido    901\n",
       "True           713\n",
       "Name: Over18, dtype: int64"
      ]
     },
     "execution_count": 308,
     "metadata": {},
     "output_type": "execute_result"
    }
   ],
   "source": [
    "df_columnas_21_30[\"Over18\"].value_counts()"
   ]
  },
  {
   "cell_type": "markdown",
   "metadata": {},
   "source": [
    "3. OverTime: Indica si el empleado trabaja horas extras (\"Yes\" para sí o \"No\" para no).\"OverTime\".  En este caso, el 58% de los datos tienen si o no y dentro de esta muestra diría que en principio  el 73 % han trabajado horas extras y el 27% no. etiquetamos los datos desconocidos.\n"
   ]
  },
  {
   "cell_type": "code",
   "execution_count": 309,
   "metadata": {},
   "outputs": [
    {
     "data": {
      "text/plain": [
       "No     682\n",
       "Yes    256\n",
       "Name: OverTime, dtype: int64"
      ]
     },
     "execution_count": 309,
     "metadata": {},
     "output_type": "execute_result"
    }
   ],
   "source": [
    "df_columnas_21_30[\"OverTime\"].value_counts()"
   ]
  },
  {
   "cell_type": "code",
   "execution_count": 310,
   "metadata": {},
   "outputs": [],
   "source": [
    "df_columnas_21_30['OverTime'] = df_columnas_21_30['OverTime'].replace({'Yes': True, 'No': False, np.nan: \"Desconocido\" })"
   ]
  },
  {
   "cell_type": "code",
   "execution_count": 311,
   "metadata": {},
   "outputs": [
    {
     "data": {
      "text/plain": [
       "False          682\n",
       "Desconocido    676\n",
       "True           256\n",
       "Name: OverTime, dtype: int64"
      ]
     },
     "execution_count": 311,
     "metadata": {},
     "output_type": "execute_result"
    }
   ],
   "source": [
    "df_columnas_21_30[\"OverTime\"].value_counts()"
   ]
  },
  {
   "cell_type": "markdown",
   "metadata": {},
   "source": [
    "4. PercentSalaryHike: El porcentaje de aumento salarial del empleado.\"PercentSalaryHike\", int no nulos, no hay valores negativos asi que solo cambiamos el tipo de datos a float para realizar operaciones con otras columnas."
   ]
  },
  {
   "cell_type": "code",
   "execution_count": 312,
   "metadata": {},
   "outputs": [
    {
     "data": {
      "text/plain": [
       "11    232\n",
       "13    230\n",
       "12    225\n",
       "14    220\n",
       "15    110\n",
       "18     98\n",
       "17     88\n",
       "16     86\n",
       "19     82\n",
       "20     60\n",
       "22     59\n",
       "21     51\n",
       "23     29\n",
       "24     25\n",
       "25     19\n",
       "Name: PercentSalaryHike, dtype: int64"
      ]
     },
     "execution_count": 312,
     "metadata": {},
     "output_type": "execute_result"
    }
   ],
   "source": [
    "df_columnas_21_30[\"PercentSalaryHike\"].value_counts()"
   ]
  },
  {
   "cell_type": "code",
   "execution_count": 313,
   "metadata": {},
   "outputs": [],
   "source": [
    "# Como estamos trabajando con float la convierto de int a float \n",
    "df_columnas_21_30['PercentSalaryHike'] = df_columnas_21_30['PercentSalaryHike'].astype(float)"
   ]
  },
  {
   "cell_type": "code",
   "execution_count": 314,
   "metadata": {},
   "outputs": [
    {
     "data": {
      "text/plain": [
       "<bound method NDFrame.astype of 0       13.0\n",
       "1       14.0\n",
       "2       11.0\n",
       "3       19.0\n",
       "4       12.0\n",
       "        ... \n",
       "1609    11.0\n",
       "1610    12.0\n",
       "1611    18.0\n",
       "1612    13.0\n",
       "1613    13.0\n",
       "Name: PercentSalaryHike, Length: 1614, dtype: float64>"
      ]
     },
     "execution_count": 314,
     "metadata": {},
     "output_type": "execute_result"
    }
   ],
   "source": [
    "df_columnas_21_30['PercentSalaryHike'].astype"
   ]
  },
  {
   "cell_type": "markdown",
   "metadata": {},
   "source": [
    "5.  PerformanceRating: Calificación de rendimiento del empleado. PerformanceRating reemplazamos \",\" por \". \"y etiquetamos desconocidos.convertimos a float excepto desconocidos"
   ]
  },
  {
   "cell_type": "code",
   "execution_count": 444,
   "metadata": {},
   "outputs": [],
   "source": [
    "df_columnas_21_30 = df.iloc[:, 21:31]"
   ]
  },
  {
   "cell_type": "code",
   "execution_count": 445,
   "metadata": {},
   "outputs": [
    {
     "data": {
      "text/plain": [
       "array(['3,0', '4,0', nan], dtype=object)"
      ]
     },
     "execution_count": 445,
     "metadata": {},
     "output_type": "execute_result"
    }
   ],
   "source": [
    "df_columnas_21_30[\"PerformanceRating\"].unique()"
   ]
  },
  {
   "cell_type": "code",
   "execution_count": 446,
   "metadata": {},
   "outputs": [
    {
     "data": {
      "text/plain": [
       "3,0    1205\n",
       "4,0     214\n",
       "Name: PerformanceRating, dtype: int64"
      ]
     },
     "execution_count": 446,
     "metadata": {},
     "output_type": "execute_result"
    }
   ],
   "source": [
    "df_columnas_21_30[\"PerformanceRating\"].value_counts()"
   ]
  },
  {
   "cell_type": "code",
   "execution_count": 447,
   "metadata": {},
   "outputs": [],
   "source": [
    "df_columnas_21_30['PerformanceRating'] = df_columnas_21_30['PerformanceRating'].str.replace(',', '.')"
   ]
  },
  {
   "cell_type": "code",
   "execution_count": 448,
   "metadata": {},
   "outputs": [],
   "source": [
    "# Reemplazar NaN con una etiqueta específica para los valores desconocidos\n",
    "df_columnas_21_30['PerformanceRating'].fillna('Desconocido', inplace=True)"
   ]
  },
  {
   "cell_type": "code",
   "execution_count": 449,
   "metadata": {},
   "outputs": [
    {
     "data": {
      "text/plain": [
       "3.0            1205\n",
       "4.0             214\n",
       "Desconocido     195\n",
       "Name: PerformanceRating, dtype: int64"
      ]
     },
     "execution_count": 449,
     "metadata": {},
     "output_type": "execute_result"
    }
   ],
   "source": [
    "df_columnas_21_30[\"PerformanceRating\"].value_counts()"
   ]
  },
  {
   "cell_type": "code",
   "execution_count": 451,
   "metadata": {},
   "outputs": [
    {
     "data": {
      "text/plain": [
       "array(['3.0', '4.0', 'Desconocido'], dtype=object)"
      ]
     },
     "execution_count": 451,
     "metadata": {},
     "output_type": "execute_result"
    }
   ],
   "source": [
    "df_columnas_21_30[\"PerformanceRating\"].unique()"
   ]
  },
  {
   "cell_type": "code",
   "execution_count": 452,
   "metadata": {},
   "outputs": [],
   "source": [
    "# Convertir los datos a tipo float, excepto los valores desconocidos\n",
    "df_columnas_21_30['PerformanceRating'] = pd.to_numeric(df_columnas_21_30['PerformanceRating'], errors='coerce')"
   ]
  },
  {
   "cell_type": "code",
   "execution_count": 453,
   "metadata": {},
   "outputs": [
    {
     "data": {
      "text/plain": [
       "<bound method NDFrame.astype of 0       3.0\n",
       "1       3.0\n",
       "2       3.0\n",
       "3       3.0\n",
       "4       3.0\n",
       "       ... \n",
       "1609    NaN\n",
       "1610    3.0\n",
       "1611    3.0\n",
       "1612    NaN\n",
       "1613    3.0\n",
       "Name: PerformanceRating, Length: 1614, dtype: float64>"
      ]
     },
     "execution_count": 453,
     "metadata": {},
     "output_type": "execute_result"
    }
   ],
   "source": [
    "df_columnas_21_30[\"PerformanceRating\"].astype"
   ]
  },
  {
   "cell_type": "code",
   "execution_count": 454,
   "metadata": {},
   "outputs": [
    {
     "data": {
      "text/plain": [
       "3.0    1205\n",
       "4.0     214\n",
       "Name: PerformanceRating, dtype: int64"
      ]
     },
     "execution_count": 454,
     "metadata": {},
     "output_type": "execute_result"
    }
   ],
   "source": [
    "df_columnas_21_30[\"PerformanceRating\"].value_counts()"
   ]
  },
  {
   "cell_type": "markdown",
   "metadata": {},
   "source": [
    "6- RelationshipSatisfaction: Nivel de satisfacción en las relaciones interpersonales del empleado.RelationshipSatisfaction, en principio dejaria como int porque son numeros ordinales que se refieren a niveles de satisfaccion de los empleados. Niveles de 1-4"
   ]
  },
  {
   "cell_type": "code",
   "execution_count": 455,
   "metadata": {},
   "outputs": [
    {
     "data": {
      "text/plain": [
       "array([3, 1, 4, 2])"
      ]
     },
     "execution_count": 455,
     "metadata": {},
     "output_type": "execute_result"
    }
   ],
   "source": [
    "df_columnas_21_30[\"RelationshipSatisfaction\"].unique()"
   ]
  },
  {
   "cell_type": "code",
   "execution_count": 456,
   "metadata": {},
   "outputs": [
    {
     "data": {
      "text/plain": [
       "3    504\n",
       "4    468\n",
       "2    339\n",
       "1    303\n",
       "Name: RelationshipSatisfaction, dtype: int64"
      ]
     },
     "execution_count": 456,
     "metadata": {},
     "output_type": "execute_result"
    }
   ],
   "source": [
    "df_columnas_21_30[\"RelationshipSatisfaction\"].value_counts()"
   ]
  },
  {
   "cell_type": "markdown",
   "metadata": {},
   "source": [
    "7. StandardHours: Las horas estándar de trabajo.StandardHours, Entiendo que las horas estandar son 80 aunque tenemos muchos desconocidos. Convertimos a float y etiquetamos desconocidos."
   ]
  },
  {
   "cell_type": "code",
   "execution_count": 459,
   "metadata": {},
   "outputs": [
    {
     "data": {
      "text/plain": [
       "array([nan, '80,0'], dtype=object)"
      ]
     },
     "execution_count": 459,
     "metadata": {},
     "output_type": "execute_result"
    }
   ],
   "source": [
    "df_columnas_21_30[\"StandardHours\"].unique()"
   ]
  },
  {
   "cell_type": "code",
   "execution_count": 461,
   "metadata": {},
   "outputs": [
    {
     "data": {
      "text/plain": [
       "80,0    419\n",
       "Name: StandardHours, dtype: int64"
      ]
     },
     "execution_count": 461,
     "metadata": {},
     "output_type": "execute_result"
    }
   ],
   "source": [
    "df_columnas_21_30[\"StandardHours\"].value_counts()"
   ]
  },
  {
   "cell_type": "code",
   "execution_count": 464,
   "metadata": {},
   "outputs": [],
   "source": [
    "# Reemplazar comas por puntos\n",
    "df_columnas_21_30['StandardHours'] = df_columnas_21_30['StandardHours'].str.replace(',', '.')\n",
    "\n",
    "\n",
    "# Convertir los datos a tipo float, excepto los valores desconocidos\n",
    "df_columnas_21_30['StandardHours'] = pd.to_numeric(df_columnas_21_30['StandardHours'], errors='coerce')\n",
    "\n",
    "# Reemplazar NaN por \"Desconocido\"\n",
    "df_columnas_21_30['StandardHours'].fillna('Desconocido', inplace=True)\n"
   ]
  },
  {
   "cell_type": "code",
   "execution_count": 465,
   "metadata": {},
   "outputs": [
    {
     "data": {
      "text/plain": [
       "Desconocido    1195\n",
       "80.0            419\n",
       "Name: StandardHours, dtype: int64"
      ]
     },
     "execution_count": 465,
     "metadata": {},
     "output_type": "execute_result"
    }
   ],
   "source": [
    "df_columnas_21_30[\"StandardHours\"].value_counts()"
   ]
  },
  {
   "cell_type": "markdown",
   "metadata": {},
   "source": [
    "8 StockOptionLevel: Nivel de opciones de compra de acciones del empleado. StockOptionLevel. int y en principio lo dejaria de esta manera. no hay nulos."
   ]
  },
  {
   "cell_type": "code",
   "execution_count": 466,
   "metadata": {},
   "outputs": [
    {
     "data": {
      "text/plain": [
       "0    687\n",
       "1    666\n",
       "2    172\n",
       "3     89\n",
       "Name: StockOptionLevel, dtype: int64"
      ]
     },
     "execution_count": 466,
     "metadata": {},
     "output_type": "execute_result"
    }
   ],
   "source": [
    "df_columnas_21_30[\"StockOptionLevel\"].value_counts()"
   ]
  },
  {
   "cell_type": "code",
   "execution_count": 467,
   "metadata": {},
   "outputs": [
    {
     "data": {
      "text/plain": [
       "array([0, 1, 2, 3])"
      ]
     },
     "execution_count": 467,
     "metadata": {},
     "output_type": "execute_result"
    }
   ],
   "source": [
    "df_columnas_21_30[\"StockOptionLevel\"].unique()"
   ]
  },
  {
   "cell_type": "markdown",
   "metadata": {},
   "source": [
    "9. TotalWorkingYears: Total de años de experiencia laboral del empleado.TOTALWORKINGYEARS, convertimos a float y etiquetamos los desconocidos. Tenemos el 67,4% de datos para poder realizar analisis."
   ]
  },
  {
   "cell_type": "code",
   "execution_count": 468,
   "metadata": {},
   "outputs": [
    {
     "data": {
      "text/plain": [
       "array([nan, '34,0', '22,0', '28,0', '20,0', '21,0', '33,0', '40,0',\n",
       "       '18,0', '25,0', '15,0', '17,0', '26,0', '16,0', '24,0', '14,0',\n",
       "       '23,0', '27,0', '19,0', '11,0', '38,0', '37,0', '13,0', '12,0',\n",
       "       '29,0', '10,0', '36,0', '35,0', '9,0', '31,0', '32,0', '8,0',\n",
       "       '7,0', '30,0', '6,0', '5,0', '4,0', '3,0', '2,0', '1,0', '0,0'],\n",
       "      dtype=object)"
      ]
     },
     "execution_count": 468,
     "metadata": {},
     "output_type": "execute_result"
    }
   ],
   "source": [
    "df_columnas_21_30[\"TOTALWORKINGYEARS\"].unique()"
   ]
  },
  {
   "cell_type": "code",
   "execution_count": 469,
   "metadata": {},
   "outputs": [],
   "source": [
    "df_columnas_21_30['TOTALWORKINGYEARS'] = df_columnas_21_30[\"TOTALWORKINGYEARS\"].str.replace(',', '.')"
   ]
  },
  {
   "cell_type": "code",
   "execution_count": 470,
   "metadata": {},
   "outputs": [],
   "source": [
    "# Convertir los datos a tipo float, excepto los valores desconocidos\n",
    "df_columnas_21_30['TOTALWORKINGYEARS'] = pd.to_numeric(df_columnas_21_30['TOTALWORKINGYEARS'], errors='coerce')\n",
    "\n",
    "# Reemplazar NaN con una etiqueta específica para los valores desconocidos\n",
    "df_columnas_21_30['TOTALWORKINGYEARS'].fillna('Desconocido', inplace=True)"
   ]
  },
  {
   "cell_type": "code",
   "execution_count": 471,
   "metadata": {},
   "outputs": [
    {
     "data": {
      "text/plain": [
       "Desconocido    526\n",
       "10.0           144\n",
       "8.0             86\n",
       "6.0             84\n",
       "9.0             69\n",
       "5.0             66\n",
       "7.0             56\n",
       "4.0             54\n",
       "1.0             53\n",
       "12.0            34\n",
       "3.0             32\n",
       "13.0            30\n",
       "14.0            30\n",
       "11.0            29\n",
       "16.0            28\n",
       "15.0            28\n",
       "20.0            28\n",
       "18.0            27\n",
       "21.0            23\n",
       "17.0            22\n",
       "2.0             21\n",
       "22.0            18\n",
       "19.0            17\n",
       "24.0            14\n",
       "23.0            13\n",
       "28.0            13\n",
       "0.0              8\n",
       "26.0             8\n",
       "36.0             6\n",
       "29.0             6\n",
       "25.0             6\n",
       "33.0             6\n",
       "37.0             5\n",
       "27.0             5\n",
       "31.0             4\n",
       "35.0             3\n",
       "32.0             3\n",
       "30.0             3\n",
       "40.0             3\n",
       "34.0             2\n",
       "38.0             1\n",
       "Name: TOTALWORKINGYEARS, dtype: int64"
      ]
     },
     "execution_count": 471,
     "metadata": {},
     "output_type": "execute_result"
    }
   ],
   "source": [
    "df_columnas_21_30[\"TOTALWORKINGYEARS\"].value_counts()"
   ]
  },
  {
   "cell_type": "markdown",
   "metadata": {},
   "source": [
    "10. TrainingTimesLastYear: Número de veces que el empleado recibió capacitación el año pasado.TrainingTimesLastYear. int no hay nulos"
   ]
  },
  {
   "cell_type": "code",
   "execution_count": 472,
   "metadata": {},
   "outputs": [
    {
     "data": {
      "text/plain": [
       "array([5, 3, 2, 0, 1, 4, 6])"
      ]
     },
     "execution_count": 472,
     "metadata": {},
     "output_type": "execute_result"
    }
   ],
   "source": [
    "df_columnas_21_30[\"TrainingTimesLastYear\"].unique()"
   ]
  },
  {
   "cell_type": "code",
   "execution_count": 473,
   "metadata": {},
   "outputs": [
    {
     "data": {
      "text/plain": [
       "2    598\n",
       "3    534\n",
       "4    137\n",
       "5    136\n",
       "1     77\n",
       "6     72\n",
       "0     60\n",
       "Name: TrainingTimesLastYear, dtype: int64"
      ]
     },
     "execution_count": 473,
     "metadata": {},
     "output_type": "execute_result"
    }
   ],
   "source": [
    "df_columnas_21_30[\"TrainingTimesLastYear\"].value_counts()"
   ]
  },
  {
   "cell_type": "markdown",
   "metadata": {},
   "source": [
    "Resumen de la información obtenida de la primera visualización de las columnas\n",
    "1 - La mayoria de emleados han trabajado en otras compañias entre = 0 y 4 años, 79% (columna NUMCOMPANIESWORKED). Sin cambios\n",
    "2 - El 56% de datos de edad > 18 años es NaN (Columna Over18), verificar esta columna, todos deberian ser mayores de 18 años True y etiquetamos desconocidos\n",
    "3-  En este caso \"han tabajado horas extras\", el 58% de los datos tienen si o no y dentro de esta muestra diría que en principio  el 73 % han trabajado horas extras y el 27% no Etiquetamos desconocidos.\n",
    "4- El porcentaje de aumento salarial tiene una media de 15,16% cambiamos a float\n",
    "5-PerformanceRating: Calificación de rendimiento del empleado valores entre 3 y 4 etiquetamos los desconocidos.\n",
    "6. RelationshipSatisfaction Niveles de satisfacción ente 1-4 en principio los dejamos como int\n",
    "7. Horas estandar consideramos 80 porque es el unico valor que nos aportan y los demas son desconocidos. Este es el resultado de la primera exploración\n",
    "8. Niveles de opcion de compra de 0-3 en principio lo dejamos como int.\n",
    "9. Total años de experiencia contamos con el 67 % de datos y convertimos a float los datos y etiquetamos los desconocidos.\n",
    "10. Los empleados han recibido de 0 a 6 capacitaciones. int"
   ]
  }
 ],
 "metadata": {
  "kernelspec": {
   "display_name": "base",
   "language": "python",
   "name": "python3"
  },
  "language_info": {
   "codemirror_mode": {
    "name": "ipython",
    "version": 3
   },
   "file_extension": ".py",
   "mimetype": "text/x-python",
   "name": "python",
   "nbconvert_exporter": "python",
   "pygments_lexer": "ipython3",
   "version": "3.9.7"
  }
 },
 "nbformat": 4,
 "nbformat_minor": 2
}
