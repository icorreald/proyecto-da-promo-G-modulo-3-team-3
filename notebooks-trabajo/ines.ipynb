{
 "cells": [
  {
   "cell_type": "code",
   "execution_count": 2,
   "metadata": {},
   "outputs": [],
   "source": [
    "import numpy as np\n",
    "import pandas as pd"
   ]
  },
  {
   "cell_type": "code",
   "execution_count": 7,
   "metadata": {},
   "outputs": [],
   "source": [
    "import re"
   ]
  },
  {
   "cell_type": "code",
   "execution_count": 17,
   "metadata": {},
   "outputs": [],
   "source": [
    "#creo una nueva lista para apendear los nuevos nombres\n",
    "col = []\n",
    "patron = re.compile(r'[a-zA-Z][a-z]*[A-Z][a-z]*') \n",
    "for columna in df.columns: #itero por la lista y cada vez que encuentro una minúscula seguida de mayúscula lo cambio por _ y paso todo a minúscula\n",
    "    if patron.match(columna):\n",
    "        col_sep = re.sub(r'(?<=[a-z])(?=[A-Z])', '_', columna)\n",
    "        col.append(col_sep.lower())\n",
    "    else:\n",
    "        col.append(columna.lower())\n"
   ]
  },
  {
   "cell_type": "code",
   "execution_count": 18,
   "metadata": {},
   "outputs": [
    {
     "data": {
      "text/plain": [
       "['unnamed: 0',\n",
       " 'age',\n",
       " 'attrition',\n",
       " 'business_travel',\n",
       " 'daily_rate',\n",
       " 'department',\n",
       " 'distance_from_home',\n",
       " 'education',\n",
       " 'education_field',\n",
       " 'employeecount',\n",
       " 'employeenumber',\n",
       " 'environment_satisfaction',\n",
       " 'gender',\n",
       " 'hourly_rate',\n",
       " 'job_involvement',\n",
       " 'job_level',\n",
       " 'job_role',\n",
       " 'job_satisfaction',\n",
       " 'marital_status',\n",
       " 'monthly_income',\n",
       " 'monthly_rate',\n",
       " 'numcompaniesworked',\n",
       " 'over18',\n",
       " 'over_time',\n",
       " 'percent_salary_hike',\n",
       " 'performance_rating',\n",
       " 'relationship_satisfaction',\n",
       " 'standard_hours',\n",
       " 'stock_option_level',\n",
       " 'totalworkingyears',\n",
       " 'training_times_last_year',\n",
       " 'worklifebalance',\n",
       " 'years_at_company',\n",
       " 'years_in_current_role',\n",
       " 'years_since_last_promotion',\n",
       " 'yearswithcurrmanager',\n",
       " 'same_as_monthly_income',\n",
       " 'date_birth',\n",
       " 'salary',\n",
       " 'role_departament',\n",
       " 'numberchildren',\n",
       " 'remote_work']"
      ]
     },
     "execution_count": 18,
     "metadata": {},
     "output_type": "execute_result"
    }
   ],
   "source": [
    "# muestro el resultado para cogerlo y seguir de manera manual\n",
    "col"
   ]
  },
  {
   "cell_type": "code",
   "execution_count": 19,
   "metadata": {},
   "outputs": [],
   "source": [
    "#cambio manualmente los que están juntos y en minúscula:\n",
    "\n",
    "col = ['Unnamed: 0',\n",
    " 'age',\n",
    " 'attrition',\n",
    " 'business_travel',\n",
    " 'daily_rate',\n",
    " 'department',\n",
    " 'distance_from_home',\n",
    " 'education',\n",
    " 'education_field',\n",
    " 'employee_number',\n",
    " 'environment_satisfaction',\n",
    " 'gender',\n",
    " 'hourly_rate',\n",
    " 'job_involvement',\n",
    " 'job_level',\n",
    " 'job_role',\n",
    " 'job_satisfaction',\n",
    " 'marital_status',\n",
    " 'monthly_income',\n",
    " 'monthly_rate',\n",
    " 'num_companies_worked',\n",
    " 'over18',\n",
    " 'over_time',\n",
    " 'percent_salary_hike',\n",
    " 'performance_rating',\n",
    " 'relationship_satisfaction',\n",
    " 'standard_hours',\n",
    " 'stock_option_level',\n",
    " 'total_working_years',\n",
    " 'training_times_last_year',\n",
    " 'work_life_balance',\n",
    " 'years_at_company',\n",
    " 'years_in_current_role',\n",
    " 'years_since_last_promotion',\n",
    " 'years_with_curr_manager',\n",
    " 'same_as_monthly_income',\n",
    " 'date_birth',\n",
    " 'salary',\n",
    " 'role_departament',\n",
    " 'number_children',\n",
    " 'remote_work']"
   ]
  },
  {
   "cell_type": "code",
   "execution_count": null,
   "metadata": {},
   "outputs": [],
   "source": [
    "#sustituyo los nombres antiguos por la nueva lista\n",
    "df.columns = col"
   ]
  }
 ],
 "metadata": {
  "kernelspec": {
   "display_name": "base",
   "language": "python",
   "name": "python3"
  },
  "language_info": {
   "codemirror_mode": {
    "name": "ipython",
    "version": 3
   },
   "file_extension": ".py",
   "mimetype": "text/x-python",
   "name": "python",
   "nbconvert_exporter": "python",
   "pygments_lexer": "ipython3",
   "version": "3.11.5"
  }
 },
 "nbformat": 4,
 "nbformat_minor": 2
}
