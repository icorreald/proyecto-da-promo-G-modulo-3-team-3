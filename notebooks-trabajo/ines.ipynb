{
 "cells": [
  {
   "cell_type": "code",
   "execution_count": 46,
   "metadata": {},
   "outputs": [],
   "source": [
    "import numpy as np\n",
    "import pandas as pd\n",
    "from scipy.stats import chi2_contingency\n",
    "import seaborn as sns\n",
    "import matplotlib.pyplot as plt\n",
    "import scipy.stats as stats"
   ]
  },
  {
   "cell_type": "code",
   "execution_count": 5,
   "metadata": {},
   "outputs": [
    {
     "data": {
      "text/html": [
       "<div>\n",
       "<style scoped>\n",
       "    .dataframe tbody tr th:only-of-type {\n",
       "        vertical-align: middle;\n",
       "    }\n",
       "\n",
       "    .dataframe tbody tr th {\n",
       "        vertical-align: top;\n",
       "    }\n",
       "\n",
       "    .dataframe thead th {\n",
       "        text-align: right;\n",
       "    }\n",
       "</style>\n",
       "<table border=\"1\" class=\"dataframe\">\n",
       "  <thead>\n",
       "    <tr style=\"text-align: right;\">\n",
       "      <th></th>\n",
       "      <th>attrition</th>\n",
       "      <th>business_travel</th>\n",
       "      <th>daily_rate</th>\n",
       "      <th>department</th>\n",
       "      <th>distance_from_home</th>\n",
       "      <th>education</th>\n",
       "      <th>education_field</th>\n",
       "      <th>employee_number</th>\n",
       "      <th>environment_satisfaction</th>\n",
       "      <th>gender</th>\n",
       "      <th>...</th>\n",
       "      <th>stock_option_level</th>\n",
       "      <th>total_working_years</th>\n",
       "      <th>training_times_last_year</th>\n",
       "      <th>work_life_balance</th>\n",
       "      <th>years_at_company</th>\n",
       "      <th>years_since_last_promotion</th>\n",
       "      <th>years_with_current_manager</th>\n",
       "      <th>date_birth</th>\n",
       "      <th>remote_work</th>\n",
       "      <th>grupo</th>\n",
       "    </tr>\n",
       "  </thead>\n",
       "  <tbody>\n",
       "    <tr>\n",
       "      <th>0</th>\n",
       "      <td>False</td>\n",
       "      <td>NaN</td>\n",
       "      <td>684.0</td>\n",
       "      <td>NaN</td>\n",
       "      <td>6</td>\n",
       "      <td>3</td>\n",
       "      <td>NaN</td>\n",
       "      <td>162.0</td>\n",
       "      <td>1.0</td>\n",
       "      <td>m</td>\n",
       "      <td>...</td>\n",
       "      <td>0</td>\n",
       "      <td>NaN</td>\n",
       "      <td>5</td>\n",
       "      <td>3.0</td>\n",
       "      <td>20</td>\n",
       "      <td>15</td>\n",
       "      <td>15</td>\n",
       "      <td>1972</td>\n",
       "      <td>True</td>\n",
       "      <td>control</td>\n",
       "    </tr>\n",
       "    <tr>\n",
       "      <th>1</th>\n",
       "      <td>False</td>\n",
       "      <td>NaN</td>\n",
       "      <td>699.0</td>\n",
       "      <td>NaN</td>\n",
       "      <td>1</td>\n",
       "      <td>4</td>\n",
       "      <td>life sciences</td>\n",
       "      <td>259.0</td>\n",
       "      <td>3.0</td>\n",
       "      <td>m</td>\n",
       "      <td>...</td>\n",
       "      <td>1</td>\n",
       "      <td>34.0</td>\n",
       "      <td>5</td>\n",
       "      <td>3.0</td>\n",
       "      <td>33</td>\n",
       "      <td>11</td>\n",
       "      <td>9</td>\n",
       "      <td>1971</td>\n",
       "      <td>True</td>\n",
       "      <td>control</td>\n",
       "    </tr>\n",
       "    <tr>\n",
       "      <th>2</th>\n",
       "      <td>False</td>\n",
       "      <td>rarely</td>\n",
       "      <td>532.0</td>\n",
       "      <td>research &amp; development</td>\n",
       "      <td>4</td>\n",
       "      <td>2</td>\n",
       "      <td>technical degree</td>\n",
       "      <td>319.0</td>\n",
       "      <td>3.0</td>\n",
       "      <td>m</td>\n",
       "      <td>...</td>\n",
       "      <td>0</td>\n",
       "      <td>22.0</td>\n",
       "      <td>3</td>\n",
       "      <td>NaN</td>\n",
       "      <td>22</td>\n",
       "      <td>11</td>\n",
       "      <td>15</td>\n",
       "      <td>1981</td>\n",
       "      <td>True</td>\n",
       "      <td>control</td>\n",
       "    </tr>\n",
       "    <tr>\n",
       "      <th>3</th>\n",
       "      <td>False</td>\n",
       "      <td>rarely</td>\n",
       "      <td>359.0</td>\n",
       "      <td>NaN</td>\n",
       "      <td>2</td>\n",
       "      <td>4</td>\n",
       "      <td>medical</td>\n",
       "      <td>NaN</td>\n",
       "      <td>1.0</td>\n",
       "      <td>f</td>\n",
       "      <td>...</td>\n",
       "      <td>2</td>\n",
       "      <td>NaN</td>\n",
       "      <td>2</td>\n",
       "      <td>NaN</td>\n",
       "      <td>20</td>\n",
       "      <td>5</td>\n",
       "      <td>6</td>\n",
       "      <td>1976</td>\n",
       "      <td>False</td>\n",
       "      <td>control</td>\n",
       "    </tr>\n",
       "    <tr>\n",
       "      <th>4</th>\n",
       "      <td>False</td>\n",
       "      <td>NaN</td>\n",
       "      <td>1319.0</td>\n",
       "      <td>NaN</td>\n",
       "      <td>3</td>\n",
       "      <td>3</td>\n",
       "      <td>technical degree</td>\n",
       "      <td>NaN</td>\n",
       "      <td>1.0</td>\n",
       "      <td>f</td>\n",
       "      <td>...</td>\n",
       "      <td>1</td>\n",
       "      <td>NaN</td>\n",
       "      <td>5</td>\n",
       "      <td>3.0</td>\n",
       "      <td>19</td>\n",
       "      <td>2</td>\n",
       "      <td>8</td>\n",
       "      <td>1977</td>\n",
       "      <td>False</td>\n",
       "      <td>variante</td>\n",
       "    </tr>\n",
       "    <tr>\n",
       "      <th>...</th>\n",
       "      <td>...</td>\n",
       "      <td>...</td>\n",
       "      <td>...</td>\n",
       "      <td>...</td>\n",
       "      <td>...</td>\n",
       "      <td>...</td>\n",
       "      <td>...</td>\n",
       "      <td>...</td>\n",
       "      <td>...</td>\n",
       "      <td>...</td>\n",
       "      <td>...</td>\n",
       "      <td>...</td>\n",
       "      <td>...</td>\n",
       "      <td>...</td>\n",
       "      <td>...</td>\n",
       "      <td>...</td>\n",
       "      <td>...</td>\n",
       "      <td>...</td>\n",
       "      <td>...</td>\n",
       "      <td>...</td>\n",
       "      <td>...</td>\n",
       "    </tr>\n",
       "    <tr>\n",
       "      <th>1608</th>\n",
       "      <td>False</td>\n",
       "      <td>NaN</td>\n",
       "      <td>498.0</td>\n",
       "      <td>NaN</td>\n",
       "      <td>3</td>\n",
       "      <td>4</td>\n",
       "      <td>medical</td>\n",
       "      <td>966.0</td>\n",
       "      <td>3.0</td>\n",
       "      <td>f</td>\n",
       "      <td>...</td>\n",
       "      <td>1</td>\n",
       "      <td>8.0</td>\n",
       "      <td>2</td>\n",
       "      <td>4.0</td>\n",
       "      <td>8</td>\n",
       "      <td>6</td>\n",
       "      <td>3</td>\n",
       "      <td>1991</td>\n",
       "      <td>True</td>\n",
       "      <td>variante</td>\n",
       "    </tr>\n",
       "    <tr>\n",
       "      <th>1610</th>\n",
       "      <td>False</td>\n",
       "      <td>no</td>\n",
       "      <td>805.0</td>\n",
       "      <td>NaN</td>\n",
       "      <td>4</td>\n",
       "      <td>2</td>\n",
       "      <td>NaN</td>\n",
       "      <td>972.0</td>\n",
       "      <td>3.0</td>\n",
       "      <td>m</td>\n",
       "      <td>...</td>\n",
       "      <td>0</td>\n",
       "      <td>NaN</td>\n",
       "      <td>5</td>\n",
       "      <td>2.0</td>\n",
       "      <td>9</td>\n",
       "      <td>0</td>\n",
       "      <td>8</td>\n",
       "      <td>1978</td>\n",
       "      <td>True</td>\n",
       "      <td>variante</td>\n",
       "    </tr>\n",
       "    <tr>\n",
       "      <th>1611</th>\n",
       "      <td>False</td>\n",
       "      <td>rarely</td>\n",
       "      <td>903.0</td>\n",
       "      <td>NaN</td>\n",
       "      <td>13</td>\n",
       "      <td>5</td>\n",
       "      <td>NaN</td>\n",
       "      <td>NaN</td>\n",
       "      <td>NaN</td>\n",
       "      <td>m</td>\n",
       "      <td>...</td>\n",
       "      <td>0</td>\n",
       "      <td>9.0</td>\n",
       "      <td>3</td>\n",
       "      <td>3.0</td>\n",
       "      <td>8</td>\n",
       "      <td>0</td>\n",
       "      <td>7</td>\n",
       "      <td>1984</td>\n",
       "      <td>True</td>\n",
       "      <td>control</td>\n",
       "    </tr>\n",
       "    <tr>\n",
       "      <th>1612</th>\n",
       "      <td>False</td>\n",
       "      <td>no</td>\n",
       "      <td>1229.0</td>\n",
       "      <td>NaN</td>\n",
       "      <td>8</td>\n",
       "      <td>4</td>\n",
       "      <td>technical degree</td>\n",
       "      <td>990.0</td>\n",
       "      <td>1.0</td>\n",
       "      <td>m</td>\n",
       "      <td>...</td>\n",
       "      <td>2</td>\n",
       "      <td>12.0</td>\n",
       "      <td>3</td>\n",
       "      <td>3.0</td>\n",
       "      <td>7</td>\n",
       "      <td>0</td>\n",
       "      <td>7</td>\n",
       "      <td>1987</td>\n",
       "      <td>NaN</td>\n",
       "      <td>control</td>\n",
       "    </tr>\n",
       "    <tr>\n",
       "      <th>1613</th>\n",
       "      <td>False</td>\n",
       "      <td>NaN</td>\n",
       "      <td>566.0</td>\n",
       "      <td>NaN</td>\n",
       "      <td>7</td>\n",
       "      <td>2</td>\n",
       "      <td>medical</td>\n",
       "      <td>NaN</td>\n",
       "      <td>4.0</td>\n",
       "      <td>m</td>\n",
       "      <td>...</td>\n",
       "      <td>1</td>\n",
       "      <td>NaN</td>\n",
       "      <td>3</td>\n",
       "      <td>3.0</td>\n",
       "      <td>8</td>\n",
       "      <td>0</td>\n",
       "      <td>7</td>\n",
       "      <td>1977</td>\n",
       "      <td>False</td>\n",
       "      <td>control</td>\n",
       "    </tr>\n",
       "  </tbody>\n",
       "</table>\n",
       "<p>1579 rows × 33 columns</p>\n",
       "</div>"
      ],
      "text/plain": [
       "      attrition business_travel  daily_rate              department  \\\n",
       "0         False             NaN       684.0                     NaN   \n",
       "1         False             NaN       699.0                     NaN   \n",
       "2         False          rarely       532.0  research & development   \n",
       "3         False          rarely       359.0                     NaN   \n",
       "4         False             NaN      1319.0                     NaN   \n",
       "...         ...             ...         ...                     ...   \n",
       "1608      False             NaN       498.0                     NaN   \n",
       "1610      False              no       805.0                     NaN   \n",
       "1611      False          rarely       903.0                     NaN   \n",
       "1612      False              no      1229.0                     NaN   \n",
       "1613      False             NaN       566.0                     NaN   \n",
       "\n",
       "      distance_from_home  education   education_field  employee_number  \\\n",
       "0                      6          3               NaN            162.0   \n",
       "1                      1          4     life sciences            259.0   \n",
       "2                      4          2  technical degree            319.0   \n",
       "3                      2          4           medical              NaN   \n",
       "4                      3          3  technical degree              NaN   \n",
       "...                  ...        ...               ...              ...   \n",
       "1608                   3          4           medical            966.0   \n",
       "1610                   4          2               NaN            972.0   \n",
       "1611                  13          5               NaN              NaN   \n",
       "1612                   8          4  technical degree            990.0   \n",
       "1613                   7          2           medical              NaN   \n",
       "\n",
       "      environment_satisfaction gender  ...  stock_option_level  \\\n",
       "0                          1.0      m  ...                   0   \n",
       "1                          3.0      m  ...                   1   \n",
       "2                          3.0      m  ...                   0   \n",
       "3                          1.0      f  ...                   2   \n",
       "4                          1.0      f  ...                   1   \n",
       "...                        ...    ...  ...                 ...   \n",
       "1608                       3.0      f  ...                   1   \n",
       "1610                       3.0      m  ...                   0   \n",
       "1611                       NaN      m  ...                   0   \n",
       "1612                       1.0      m  ...                   2   \n",
       "1613                       4.0      m  ...                   1   \n",
       "\n",
       "      total_working_years  training_times_last_year work_life_balance  \\\n",
       "0                     NaN                         5               3.0   \n",
       "1                    34.0                         5               3.0   \n",
       "2                    22.0                         3               NaN   \n",
       "3                     NaN                         2               NaN   \n",
       "4                     NaN                         5               3.0   \n",
       "...                   ...                       ...               ...   \n",
       "1608                  8.0                         2               4.0   \n",
       "1610                  NaN                         5               2.0   \n",
       "1611                  9.0                         3               3.0   \n",
       "1612                 12.0                         3               3.0   \n",
       "1613                  NaN                         3               3.0   \n",
       "\n",
       "      years_at_company years_since_last_promotion  years_with_current_manager  \\\n",
       "0                   20                         15                          15   \n",
       "1                   33                         11                           9   \n",
       "2                   22                         11                          15   \n",
       "3                   20                          5                           6   \n",
       "4                   19                          2                           8   \n",
       "...                ...                        ...                         ...   \n",
       "1608                 8                          6                           3   \n",
       "1610                 9                          0                           8   \n",
       "1611                 8                          0                           7   \n",
       "1612                 7                          0                           7   \n",
       "1613                 8                          0                           7   \n",
       "\n",
       "      date_birth  remote_work     grupo  \n",
       "0           1972         True   control  \n",
       "1           1971         True   control  \n",
       "2           1981         True   control  \n",
       "3           1976        False   control  \n",
       "4           1977        False  variante  \n",
       "...          ...          ...       ...  \n",
       "1608        1991         True  variante  \n",
       "1610        1978         True  variante  \n",
       "1611        1984         True   control  \n",
       "1612        1987          NaN   control  \n",
       "1613        1977        False   control  \n",
       "\n",
       "[1579 rows x 33 columns]"
      ]
     },
     "execution_count": 5,
     "metadata": {},
     "output_type": "execute_result"
    }
   ],
   "source": [
    "df = pd.read_csv('../csv-archivos/datos_sql.csv', index_col=0)\n",
    "df"
   ]
  },
  {
   "cell_type": "code",
   "execution_count": 7,
   "metadata": {},
   "outputs": [],
   "source": [
    "def eda (dataframe):\n",
    "    \"Esta función hace un análisis exploratorio del dataframe que le pasemos\"\n",
    "\n",
    "    print(f\"Los duplicados que tenemos en el conjunto de datos son: {dataframe.duplicated().sum()}\")\n",
    "    print(\"\\n ..................... \\n\")\n",
    "    # generamos un DataFrame para los valores nulos\n",
    "    print(\"Los nulos que tenemos en el conjunto de datos son:\")\n",
    "    df_nulos = pd.DataFrame(dataframe.isnull().sum() / dataframe.shape[0] * 100, columns = [\"%_nulos\"])\n",
    "    display(df_nulos[df_nulos[\"%_nulos\"] > 0])\n",
    "    \n",
    "    print(\"\\n ..................... \\n\")\n",
    "    print(f\"Los tipos de las columnas son:\")\n",
    "    display(pd.DataFrame(dataframe.dtypes, columns = [\"tipo_dato\"]))\n",
    "    \n",
    "    \n",
    "    print(\"\\n ..................... \\n\")\n",
    "    print(\"Los valores que tenemos para las columnas categóricas son: \")\n",
    "    dataframe_categoricas = dataframe.select_dtypes(include = \"O\")\n",
    "    \n",
    "    for col in dataframe_categoricas.columns:\n",
    "        print(f\"La columna {col.upper()} tiene las siguientes valore únicos:\")\n",
    "        display(pd.DataFrame(dataframe[col].value_counts()).head()) \n",
    "\n",
    "    return   "
   ]
  },
  {
   "cell_type": "code",
   "execution_count": 8,
   "metadata": {},
   "outputs": [
    {
     "name": "stdout",
     "output_type": "stream",
     "text": [
      "Los duplicados que tenemos en el conjunto de datos son: 0\n",
      "\n",
      " ..................... \n",
      "\n",
      "Los nulos que tenemos en el conjunto de datos son:\n"
     ]
    },
    {
     "data": {
      "text/html": [
       "<div>\n",
       "<style scoped>\n",
       "    .dataframe tbody tr th:only-of-type {\n",
       "        vertical-align: middle;\n",
       "    }\n",
       "\n",
       "    .dataframe tbody tr th {\n",
       "        vertical-align: top;\n",
       "    }\n",
       "\n",
       "    .dataframe thead th {\n",
       "        text-align: right;\n",
       "    }\n",
       "</style>\n",
       "<table border=\"1\" class=\"dataframe\">\n",
       "  <thead>\n",
       "    <tr style=\"text-align: right;\">\n",
       "      <th></th>\n",
       "      <th>%_nulos</th>\n",
       "    </tr>\n",
       "  </thead>\n",
       "  <tbody>\n",
       "    <tr>\n",
       "      <th>business_travel</th>\n",
       "      <td>47.688410</td>\n",
       "    </tr>\n",
       "    <tr>\n",
       "      <th>daily_rate</th>\n",
       "      <td>7.789740</td>\n",
       "    </tr>\n",
       "    <tr>\n",
       "      <th>department</th>\n",
       "      <td>81.317289</td>\n",
       "    </tr>\n",
       "    <tr>\n",
       "      <th>education_field</th>\n",
       "      <td>46.421786</td>\n",
       "    </tr>\n",
       "    <tr>\n",
       "      <th>employee_number</th>\n",
       "      <td>26.535782</td>\n",
       "    </tr>\n",
       "    <tr>\n",
       "      <th>environment_satisfaction</th>\n",
       "      <td>6.333122</td>\n",
       "    </tr>\n",
       "    <tr>\n",
       "      <th>hourly_rate</th>\n",
       "      <td>5.319823</td>\n",
       "    </tr>\n",
       "    <tr>\n",
       "      <th>marital_status</th>\n",
       "      <td>40.531982</td>\n",
       "    </tr>\n",
       "    <tr>\n",
       "      <th>monthly_income</th>\n",
       "      <td>52.311590</td>\n",
       "    </tr>\n",
       "    <tr>\n",
       "      <th>over_time</th>\n",
       "      <td>41.925269</td>\n",
       "    </tr>\n",
       "    <tr>\n",
       "      <th>performance_rating</th>\n",
       "      <td>12.032932</td>\n",
       "    </tr>\n",
       "    <tr>\n",
       "      <th>total_working_years</th>\n",
       "      <td>32.615579</td>\n",
       "    </tr>\n",
       "    <tr>\n",
       "      <th>work_life_balance</th>\n",
       "      <td>6.713110</td>\n",
       "    </tr>\n",
       "    <tr>\n",
       "      <th>remote_work</th>\n",
       "      <td>21.595947</td>\n",
       "    </tr>\n",
       "  </tbody>\n",
       "</table>\n",
       "</div>"
      ],
      "text/plain": [
       "                            %_nulos\n",
       "business_travel           47.688410\n",
       "daily_rate                 7.789740\n",
       "department                81.317289\n",
       "education_field           46.421786\n",
       "employee_number           26.535782\n",
       "environment_satisfaction   6.333122\n",
       "hourly_rate                5.319823\n",
       "marital_status            40.531982\n",
       "monthly_income            52.311590\n",
       "over_time                 41.925269\n",
       "performance_rating        12.032932\n",
       "total_working_years       32.615579\n",
       "work_life_balance          6.713110\n",
       "remote_work               21.595947"
      ]
     },
     "metadata": {},
     "output_type": "display_data"
    },
    {
     "name": "stdout",
     "output_type": "stream",
     "text": [
      "\n",
      " ..................... \n",
      "\n",
      "Los tipos de las columnas son:\n"
     ]
    },
    {
     "data": {
      "text/html": [
       "<div>\n",
       "<style scoped>\n",
       "    .dataframe tbody tr th:only-of-type {\n",
       "        vertical-align: middle;\n",
       "    }\n",
       "\n",
       "    .dataframe tbody tr th {\n",
       "        vertical-align: top;\n",
       "    }\n",
       "\n",
       "    .dataframe thead th {\n",
       "        text-align: right;\n",
       "    }\n",
       "</style>\n",
       "<table border=\"1\" class=\"dataframe\">\n",
       "  <thead>\n",
       "    <tr style=\"text-align: right;\">\n",
       "      <th></th>\n",
       "      <th>tipo_dato</th>\n",
       "    </tr>\n",
       "  </thead>\n",
       "  <tbody>\n",
       "    <tr>\n",
       "      <th>attrition</th>\n",
       "      <td>bool</td>\n",
       "    </tr>\n",
       "    <tr>\n",
       "      <th>business_travel</th>\n",
       "      <td>object</td>\n",
       "    </tr>\n",
       "    <tr>\n",
       "      <th>daily_rate</th>\n",
       "      <td>float64</td>\n",
       "    </tr>\n",
       "    <tr>\n",
       "      <th>department</th>\n",
       "      <td>object</td>\n",
       "    </tr>\n",
       "    <tr>\n",
       "      <th>distance_from_home</th>\n",
       "      <td>int64</td>\n",
       "    </tr>\n",
       "    <tr>\n",
       "      <th>education</th>\n",
       "      <td>int64</td>\n",
       "    </tr>\n",
       "    <tr>\n",
       "      <th>education_field</th>\n",
       "      <td>object</td>\n",
       "    </tr>\n",
       "    <tr>\n",
       "      <th>employee_number</th>\n",
       "      <td>float64</td>\n",
       "    </tr>\n",
       "    <tr>\n",
       "      <th>environment_satisfaction</th>\n",
       "      <td>float64</td>\n",
       "    </tr>\n",
       "    <tr>\n",
       "      <th>gender</th>\n",
       "      <td>object</td>\n",
       "    </tr>\n",
       "    <tr>\n",
       "      <th>hourly_rate</th>\n",
       "      <td>float64</td>\n",
       "    </tr>\n",
       "    <tr>\n",
       "      <th>job_involvement</th>\n",
       "      <td>int64</td>\n",
       "    </tr>\n",
       "    <tr>\n",
       "      <th>job_level</th>\n",
       "      <td>int64</td>\n",
       "    </tr>\n",
       "    <tr>\n",
       "      <th>job_role</th>\n",
       "      <td>object</td>\n",
       "    </tr>\n",
       "    <tr>\n",
       "      <th>job_satisfaction</th>\n",
       "      <td>int64</td>\n",
       "    </tr>\n",
       "    <tr>\n",
       "      <th>marital_status</th>\n",
       "      <td>object</td>\n",
       "    </tr>\n",
       "    <tr>\n",
       "      <th>monthly_income</th>\n",
       "      <td>float64</td>\n",
       "    </tr>\n",
       "    <tr>\n",
       "      <th>monthly_rate</th>\n",
       "      <td>int64</td>\n",
       "    </tr>\n",
       "    <tr>\n",
       "      <th>num_companies_worked</th>\n",
       "      <td>int64</td>\n",
       "    </tr>\n",
       "    <tr>\n",
       "      <th>over_time</th>\n",
       "      <td>object</td>\n",
       "    </tr>\n",
       "    <tr>\n",
       "      <th>percent_salary_hike</th>\n",
       "      <td>float64</td>\n",
       "    </tr>\n",
       "    <tr>\n",
       "      <th>performance_rating</th>\n",
       "      <td>float64</td>\n",
       "    </tr>\n",
       "    <tr>\n",
       "      <th>relationship_satisfaction</th>\n",
       "      <td>int64</td>\n",
       "    </tr>\n",
       "    <tr>\n",
       "      <th>stock_option_level</th>\n",
       "      <td>int64</td>\n",
       "    </tr>\n",
       "    <tr>\n",
       "      <th>total_working_years</th>\n",
       "      <td>float64</td>\n",
       "    </tr>\n",
       "    <tr>\n",
       "      <th>training_times_last_year</th>\n",
       "      <td>int64</td>\n",
       "    </tr>\n",
       "    <tr>\n",
       "      <th>work_life_balance</th>\n",
       "      <td>float64</td>\n",
       "    </tr>\n",
       "    <tr>\n",
       "      <th>years_at_company</th>\n",
       "      <td>int64</td>\n",
       "    </tr>\n",
       "    <tr>\n",
       "      <th>years_since_last_promotion</th>\n",
       "      <td>int64</td>\n",
       "    </tr>\n",
       "    <tr>\n",
       "      <th>years_with_current_manager</th>\n",
       "      <td>int64</td>\n",
       "    </tr>\n",
       "    <tr>\n",
       "      <th>date_birth</th>\n",
       "      <td>int64</td>\n",
       "    </tr>\n",
       "    <tr>\n",
       "      <th>remote_work</th>\n",
       "      <td>object</td>\n",
       "    </tr>\n",
       "    <tr>\n",
       "      <th>grupo</th>\n",
       "      <td>object</td>\n",
       "    </tr>\n",
       "  </tbody>\n",
       "</table>\n",
       "</div>"
      ],
      "text/plain": [
       "                           tipo_dato\n",
       "attrition                       bool\n",
       "business_travel               object\n",
       "daily_rate                   float64\n",
       "department                    object\n",
       "distance_from_home             int64\n",
       "education                      int64\n",
       "education_field               object\n",
       "employee_number              float64\n",
       "environment_satisfaction     float64\n",
       "gender                        object\n",
       "hourly_rate                  float64\n",
       "job_involvement                int64\n",
       "job_level                      int64\n",
       "job_role                      object\n",
       "job_satisfaction               int64\n",
       "marital_status                object\n",
       "monthly_income               float64\n",
       "monthly_rate                   int64\n",
       "num_companies_worked           int64\n",
       "over_time                     object\n",
       "percent_salary_hike          float64\n",
       "performance_rating           float64\n",
       "relationship_satisfaction      int64\n",
       "stock_option_level             int64\n",
       "total_working_years          float64\n",
       "training_times_last_year       int64\n",
       "work_life_balance            float64\n",
       "years_at_company               int64\n",
       "years_since_last_promotion     int64\n",
       "years_with_current_manager     int64\n",
       "date_birth                     int64\n",
       "remote_work                   object\n",
       "grupo                         object"
      ]
     },
     "metadata": {},
     "output_type": "display_data"
    },
    {
     "name": "stdout",
     "output_type": "stream",
     "text": [
      "\n",
      " ..................... \n",
      "\n",
      "Los valores que tenemos para las columnas categóricas son: \n",
      "La columna BUSINESS_TRAVEL tiene las siguientes valore únicos:\n"
     ]
    },
    {
     "data": {
      "text/html": [
       "<div>\n",
       "<style scoped>\n",
       "    .dataframe tbody tr th:only-of-type {\n",
       "        vertical-align: middle;\n",
       "    }\n",
       "\n",
       "    .dataframe tbody tr th {\n",
       "        vertical-align: top;\n",
       "    }\n",
       "\n",
       "    .dataframe thead th {\n",
       "        text-align: right;\n",
       "    }\n",
       "</style>\n",
       "<table border=\"1\" class=\"dataframe\">\n",
       "  <thead>\n",
       "    <tr style=\"text-align: right;\">\n",
       "      <th></th>\n",
       "      <th>count</th>\n",
       "    </tr>\n",
       "    <tr>\n",
       "      <th>business_travel</th>\n",
       "      <th></th>\n",
       "    </tr>\n",
       "  </thead>\n",
       "  <tbody>\n",
       "    <tr>\n",
       "      <th>rarely</th>\n",
       "      <td>576</td>\n",
       "    </tr>\n",
       "    <tr>\n",
       "      <th>frequently</th>\n",
       "      <td>160</td>\n",
       "    </tr>\n",
       "    <tr>\n",
       "      <th>no</th>\n",
       "      <td>90</td>\n",
       "    </tr>\n",
       "  </tbody>\n",
       "</table>\n",
       "</div>"
      ],
      "text/plain": [
       "                 count\n",
       "business_travel       \n",
       "rarely             576\n",
       "frequently         160\n",
       "no                  90"
      ]
     },
     "metadata": {},
     "output_type": "display_data"
    },
    {
     "name": "stdout",
     "output_type": "stream",
     "text": [
      "La columna DEPARTMENT tiene las siguientes valore únicos:\n"
     ]
    },
    {
     "data": {
      "text/html": [
       "<div>\n",
       "<style scoped>\n",
       "    .dataframe tbody tr th:only-of-type {\n",
       "        vertical-align: middle;\n",
       "    }\n",
       "\n",
       "    .dataframe tbody tr th {\n",
       "        vertical-align: top;\n",
       "    }\n",
       "\n",
       "    .dataframe thead th {\n",
       "        text-align: right;\n",
       "    }\n",
       "</style>\n",
       "<table border=\"1\" class=\"dataframe\">\n",
       "  <thead>\n",
       "    <tr style=\"text-align: right;\">\n",
       "      <th></th>\n",
       "      <th>count</th>\n",
       "    </tr>\n",
       "    <tr>\n",
       "      <th>department</th>\n",
       "      <th></th>\n",
       "    </tr>\n",
       "  </thead>\n",
       "  <tbody>\n",
       "    <tr>\n",
       "      <th>research &amp; development</th>\n",
       "      <td>192</td>\n",
       "    </tr>\n",
       "    <tr>\n",
       "      <th>sales</th>\n",
       "      <td>88</td>\n",
       "    </tr>\n",
       "    <tr>\n",
       "      <th>human resources</th>\n",
       "      <td>15</td>\n",
       "    </tr>\n",
       "  </tbody>\n",
       "</table>\n",
       "</div>"
      ],
      "text/plain": [
       "                        count\n",
       "department                   \n",
       "research & development    192\n",
       "sales                      88\n",
       "human resources            15"
      ]
     },
     "metadata": {},
     "output_type": "display_data"
    },
    {
     "name": "stdout",
     "output_type": "stream",
     "text": [
      "La columna EDUCATION_FIELD tiene las siguientes valore únicos:\n"
     ]
    },
    {
     "data": {
      "text/html": [
       "<div>\n",
       "<style scoped>\n",
       "    .dataframe tbody tr th:only-of-type {\n",
       "        vertical-align: middle;\n",
       "    }\n",
       "\n",
       "    .dataframe tbody tr th {\n",
       "        vertical-align: top;\n",
       "    }\n",
       "\n",
       "    .dataframe thead th {\n",
       "        text-align: right;\n",
       "    }\n",
       "</style>\n",
       "<table border=\"1\" class=\"dataframe\">\n",
       "  <thead>\n",
       "    <tr style=\"text-align: right;\">\n",
       "      <th></th>\n",
       "      <th>count</th>\n",
       "    </tr>\n",
       "    <tr>\n",
       "      <th>education_field</th>\n",
       "      <th></th>\n",
       "    </tr>\n",
       "  </thead>\n",
       "  <tbody>\n",
       "    <tr>\n",
       "      <th>life sciences</th>\n",
       "      <td>342</td>\n",
       "    </tr>\n",
       "    <tr>\n",
       "      <th>medical</th>\n",
       "      <td>269</td>\n",
       "    </tr>\n",
       "    <tr>\n",
       "      <th>marketing</th>\n",
       "      <td>100</td>\n",
       "    </tr>\n",
       "    <tr>\n",
       "      <th>technical degree</th>\n",
       "      <td>68</td>\n",
       "    </tr>\n",
       "    <tr>\n",
       "      <th>other</th>\n",
       "      <td>55</td>\n",
       "    </tr>\n",
       "  </tbody>\n",
       "</table>\n",
       "</div>"
      ],
      "text/plain": [
       "                  count\n",
       "education_field        \n",
       "life sciences       342\n",
       "medical             269\n",
       "marketing           100\n",
       "technical degree     68\n",
       "other                55"
      ]
     },
     "metadata": {},
     "output_type": "display_data"
    },
    {
     "name": "stdout",
     "output_type": "stream",
     "text": [
      "La columna GENDER tiene las siguientes valore únicos:\n"
     ]
    },
    {
     "data": {
      "text/html": [
       "<div>\n",
       "<style scoped>\n",
       "    .dataframe tbody tr th:only-of-type {\n",
       "        vertical-align: middle;\n",
       "    }\n",
       "\n",
       "    .dataframe tbody tr th {\n",
       "        vertical-align: top;\n",
       "    }\n",
       "\n",
       "    .dataframe thead th {\n",
       "        text-align: right;\n",
       "    }\n",
       "</style>\n",
       "<table border=\"1\" class=\"dataframe\">\n",
       "  <thead>\n",
       "    <tr style=\"text-align: right;\">\n",
       "      <th></th>\n",
       "      <th>count</th>\n",
       "    </tr>\n",
       "    <tr>\n",
       "      <th>gender</th>\n",
       "      <th></th>\n",
       "    </tr>\n",
       "  </thead>\n",
       "  <tbody>\n",
       "    <tr>\n",
       "      <th>m</th>\n",
       "      <td>951</td>\n",
       "    </tr>\n",
       "    <tr>\n",
       "      <th>f</th>\n",
       "      <td>628</td>\n",
       "    </tr>\n",
       "  </tbody>\n",
       "</table>\n",
       "</div>"
      ],
      "text/plain": [
       "        count\n",
       "gender       \n",
       "m         951\n",
       "f         628"
      ]
     },
     "metadata": {},
     "output_type": "display_data"
    },
    {
     "name": "stdout",
     "output_type": "stream",
     "text": [
      "La columna JOB_ROLE tiene las siguientes valore únicos:\n"
     ]
    },
    {
     "data": {
      "text/html": [
       "<div>\n",
       "<style scoped>\n",
       "    .dataframe tbody tr th:only-of-type {\n",
       "        vertical-align: middle;\n",
       "    }\n",
       "\n",
       "    .dataframe tbody tr th {\n",
       "        vertical-align: top;\n",
       "    }\n",
       "\n",
       "    .dataframe thead th {\n",
       "        text-align: right;\n",
       "    }\n",
       "</style>\n",
       "<table border=\"1\" class=\"dataframe\">\n",
       "  <thead>\n",
       "    <tr style=\"text-align: right;\">\n",
       "      <th></th>\n",
       "      <th>count</th>\n",
       "    </tr>\n",
       "    <tr>\n",
       "      <th>job_role</th>\n",
       "      <th></th>\n",
       "    </tr>\n",
       "  </thead>\n",
       "  <tbody>\n",
       "    <tr>\n",
       "      <th>sales executive</th>\n",
       "      <td>359</td>\n",
       "    </tr>\n",
       "    <tr>\n",
       "      <th>research scientist</th>\n",
       "      <td>308</td>\n",
       "    </tr>\n",
       "    <tr>\n",
       "      <th>laboratory technician</th>\n",
       "      <td>276</td>\n",
       "    </tr>\n",
       "    <tr>\n",
       "      <th>manufacturing director</th>\n",
       "      <td>153</td>\n",
       "    </tr>\n",
       "    <tr>\n",
       "      <th>healthcare representative</th>\n",
       "      <td>143</td>\n",
       "    </tr>\n",
       "  </tbody>\n",
       "</table>\n",
       "</div>"
      ],
      "text/plain": [
       "                           count\n",
       "job_role                        \n",
       "sales executive              359\n",
       "research scientist           308\n",
       "laboratory technician        276\n",
       "manufacturing director       153\n",
       "healthcare representative    143"
      ]
     },
     "metadata": {},
     "output_type": "display_data"
    },
    {
     "name": "stdout",
     "output_type": "stream",
     "text": [
      "La columna MARITAL_STATUS tiene las siguientes valore únicos:\n"
     ]
    },
    {
     "data": {
      "text/html": [
       "<div>\n",
       "<style scoped>\n",
       "    .dataframe tbody tr th:only-of-type {\n",
       "        vertical-align: middle;\n",
       "    }\n",
       "\n",
       "    .dataframe tbody tr th {\n",
       "        vertical-align: top;\n",
       "    }\n",
       "\n",
       "    .dataframe thead th {\n",
       "        text-align: right;\n",
       "    }\n",
       "</style>\n",
       "<table border=\"1\" class=\"dataframe\">\n",
       "  <thead>\n",
       "    <tr style=\"text-align: right;\">\n",
       "      <th></th>\n",
       "      <th>count</th>\n",
       "    </tr>\n",
       "    <tr>\n",
       "      <th>marital_status</th>\n",
       "      <th></th>\n",
       "    </tr>\n",
       "  </thead>\n",
       "  <tbody>\n",
       "    <tr>\n",
       "      <th>married</th>\n",
       "      <td>425</td>\n",
       "    </tr>\n",
       "    <tr>\n",
       "      <th>single</th>\n",
       "      <td>318</td>\n",
       "    </tr>\n",
       "    <tr>\n",
       "      <th>divorced</th>\n",
       "      <td>196</td>\n",
       "    </tr>\n",
       "  </tbody>\n",
       "</table>\n",
       "</div>"
      ],
      "text/plain": [
       "                count\n",
       "marital_status       \n",
       "married           425\n",
       "single            318\n",
       "divorced          196"
      ]
     },
     "metadata": {},
     "output_type": "display_data"
    },
    {
     "name": "stdout",
     "output_type": "stream",
     "text": [
      "La columna OVER_TIME tiene las siguientes valore únicos:\n"
     ]
    },
    {
     "data": {
      "text/html": [
       "<div>\n",
       "<style scoped>\n",
       "    .dataframe tbody tr th:only-of-type {\n",
       "        vertical-align: middle;\n",
       "    }\n",
       "\n",
       "    .dataframe tbody tr th {\n",
       "        vertical-align: top;\n",
       "    }\n",
       "\n",
       "    .dataframe thead th {\n",
       "        text-align: right;\n",
       "    }\n",
       "</style>\n",
       "<table border=\"1\" class=\"dataframe\">\n",
       "  <thead>\n",
       "    <tr style=\"text-align: right;\">\n",
       "      <th></th>\n",
       "      <th>count</th>\n",
       "    </tr>\n",
       "    <tr>\n",
       "      <th>over_time</th>\n",
       "      <th></th>\n",
       "    </tr>\n",
       "  </thead>\n",
       "  <tbody>\n",
       "    <tr>\n",
       "      <th>False</th>\n",
       "      <td>665</td>\n",
       "    </tr>\n",
       "    <tr>\n",
       "      <th>True</th>\n",
       "      <td>252</td>\n",
       "    </tr>\n",
       "  </tbody>\n",
       "</table>\n",
       "</div>"
      ],
      "text/plain": [
       "           count\n",
       "over_time       \n",
       "False        665\n",
       "True         252"
      ]
     },
     "metadata": {},
     "output_type": "display_data"
    },
    {
     "name": "stdout",
     "output_type": "stream",
     "text": [
      "La columna REMOTE_WORK tiene las siguientes valore únicos:\n"
     ]
    },
    {
     "data": {
      "text/html": [
       "<div>\n",
       "<style scoped>\n",
       "    .dataframe tbody tr th:only-of-type {\n",
       "        vertical-align: middle;\n",
       "    }\n",
       "\n",
       "    .dataframe tbody tr th {\n",
       "        vertical-align: top;\n",
       "    }\n",
       "\n",
       "    .dataframe thead th {\n",
       "        text-align: right;\n",
       "    }\n",
       "</style>\n",
       "<table border=\"1\" class=\"dataframe\">\n",
       "  <thead>\n",
       "    <tr style=\"text-align: right;\">\n",
       "      <th></th>\n",
       "      <th>count</th>\n",
       "    </tr>\n",
       "    <tr>\n",
       "      <th>remote_work</th>\n",
       "      <th></th>\n",
       "    </tr>\n",
       "  </thead>\n",
       "  <tbody>\n",
       "    <tr>\n",
       "      <th>True</th>\n",
       "      <td>636</td>\n",
       "    </tr>\n",
       "    <tr>\n",
       "      <th>False</th>\n",
       "      <td>602</td>\n",
       "    </tr>\n",
       "  </tbody>\n",
       "</table>\n",
       "</div>"
      ],
      "text/plain": [
       "             count\n",
       "remote_work       \n",
       "True           636\n",
       "False          602"
      ]
     },
     "metadata": {},
     "output_type": "display_data"
    },
    {
     "name": "stdout",
     "output_type": "stream",
     "text": [
      "La columna GRUPO tiene las siguientes valore únicos:\n"
     ]
    },
    {
     "data": {
      "text/html": [
       "<div>\n",
       "<style scoped>\n",
       "    .dataframe tbody tr th:only-of-type {\n",
       "        vertical-align: middle;\n",
       "    }\n",
       "\n",
       "    .dataframe tbody tr th {\n",
       "        vertical-align: top;\n",
       "    }\n",
       "\n",
       "    .dataframe thead th {\n",
       "        text-align: right;\n",
       "    }\n",
       "</style>\n",
       "<table border=\"1\" class=\"dataframe\">\n",
       "  <thead>\n",
       "    <tr style=\"text-align: right;\">\n",
       "      <th></th>\n",
       "      <th>count</th>\n",
       "    </tr>\n",
       "    <tr>\n",
       "      <th>grupo</th>\n",
       "      <th></th>\n",
       "    </tr>\n",
       "  </thead>\n",
       "  <tbody>\n",
       "    <tr>\n",
       "      <th>control</th>\n",
       "      <td>968</td>\n",
       "    </tr>\n",
       "    <tr>\n",
       "      <th>variante</th>\n",
       "      <td>611</td>\n",
       "    </tr>\n",
       "  </tbody>\n",
       "</table>\n",
       "</div>"
      ],
      "text/plain": [
       "          count\n",
       "grupo          \n",
       "control     968\n",
       "variante    611"
      ]
     },
     "metadata": {},
     "output_type": "display_data"
    }
   ],
   "source": [
    "eda(df)"
   ]
  },
  {
   "cell_type": "markdown",
   "metadata": {},
   "source": []
  },
  {
   "cell_type": "code",
   "execution_count": 9,
   "metadata": {},
   "outputs": [
    {
     "data": {
      "text/plain": [
       "Index(['attrition', 'business_travel', 'daily_rate', 'department',\n",
       "       'distance_from_home', 'education', 'education_field', 'employee_number',\n",
       "       'environment_satisfaction', 'gender', 'hourly_rate', 'job_involvement',\n",
       "       'job_level', 'job_role', 'job_satisfaction', 'marital_status',\n",
       "       'monthly_income', 'monthly_rate', 'num_companies_worked', 'over_time',\n",
       "       'percent_salary_hike', 'performance_rating',\n",
       "       'relationship_satisfaction', 'stock_option_level',\n",
       "       'total_working_years', 'training_times_last_year', 'work_life_balance',\n",
       "       'years_at_company', 'years_since_last_promotion',\n",
       "       'years_with_current_manager', 'date_birth', 'remote_work', 'grupo'],\n",
       "      dtype='object')"
      ]
     },
     "execution_count": 9,
     "metadata": {},
     "output_type": "execute_result"
    }
   ],
   "source": [
    "df.columns"
   ]
  },
  {
   "cell_type": "code",
   "execution_count": 10,
   "metadata": {},
   "outputs": [
    {
     "data": {
      "text/plain": [
       "0"
      ]
     },
     "execution_count": 10,
     "metadata": {},
     "output_type": "execute_result"
    }
   ],
   "source": [
    "df['years_since_last_promotion'].isnull().sum()"
   ]
  },
  {
   "cell_type": "markdown",
   "metadata": {},
   "source": [
    "Vamos a comprobar si hay conexión entre algunas variables y el hecho de que el trabajador ya no esté trabajando en la empresa. \n",
    "Las variables que vamos a analizar son    \n",
    "    - monthly_income (numérico)\n",
    "    - marital (proporcion)\n",
    "    - education_field (no sé como hacer cosas que no sean ni numéricas ni de dos opciones)\n",
    "    - job_role (no sé como hacer cosas que no sean ni numéricas ni de dos opciones)\n",
    "\n",
    "\n",
    "    extra: \n",
    "    - gender (proporcion)\n",
    "    - years since las promotion (numerico)\n"
   ]
  },
  {
   "cell_type": "markdown",
   "metadata": {},
   "source": [
    "¿EXISTE RELACIÓN ENTRE LOS EMPLEADOS QUE SIGUEN EN LA EMPRESA Y SU GÉNERO?\n",
    "HO > 0.05 :NO EXISTE UNA DIFERENCIA ENTRE GRUPOS\n",
    "H1 < 0.05 : EXISTE UNA DIFERENCIA ENTRE GRUPOS"
   ]
  },
  {
   "cell_type": "code",
   "execution_count": 38,
   "metadata": {},
   "outputs": [
    {
     "data": {
      "text/plain": [
       "Text(0.5, 1.0, 'Empleados en la actualidad')"
      ]
     },
     "execution_count": 38,
     "metadata": {},
     "output_type": "execute_result"
    },
    {
     "data": {
      "image/png": "[encoded data removed]",
      "text/plain": [
       "<Figure size 1200x600 with 2 Axes>"
      ]
     },
     "metadata": {},
     "output_type": "display_data"
    }
   ],
   "source": [
    "fig, axes = plt.subplots(nrows=1, ncols=2, figsize=(12, 6), sharex = True)\n",
    "\n",
    "\n",
    "# Histograma para Attrition = True\n",
    "axes[0].hist(data=df[df['attrition'] == True], x='gender')\n",
    "axes[0].set_title('Antiguos empleados')\n",
    "\n",
    "# Histograma para Attrition = False\n",
    "axes[1].hist(data=df[df['attrition'] == False], x='gender')\n",
    "axes[1].set_title('Empleados en la actualidad')"
   ]
  },
  {
   "cell_type": "code",
   "execution_count": 13,
   "metadata": {},
   "outputs": [
    {
     "data": {
      "text/html": [
       "<div>\n",
       "<style scoped>\n",
       "    .dataframe tbody tr th:only-of-type {\n",
       "        vertical-align: middle;\n",
       "    }\n",
       "\n",
       "    .dataframe tbody tr th {\n",
       "        vertical-align: top;\n",
       "    }\n",
       "\n",
       "    .dataframe thead th {\n",
       "        text-align: right;\n",
       "    }\n",
       "</style>\n",
       "<table border=\"1\" class=\"dataframe\">\n",
       "  <thead>\n",
       "    <tr style=\"text-align: right;\">\n",
       "      <th>gender</th>\n",
       "      <th>f</th>\n",
       "      <th>m</th>\n",
       "    </tr>\n",
       "    <tr>\n",
       "      <th>attrition</th>\n",
       "      <th></th>\n",
       "      <th></th>\n",
       "    </tr>\n",
       "  </thead>\n",
       "  <tbody>\n",
       "    <tr>\n",
       "      <th>False</th>\n",
       "      <td>533</td>\n",
       "      <td>791</td>\n",
       "    </tr>\n",
       "    <tr>\n",
       "      <th>True</th>\n",
       "      <td>95</td>\n",
       "      <td>160</td>\n",
       "    </tr>\n",
       "  </tbody>\n",
       "</table>\n",
       "</div>"
      ],
      "text/plain": [
       "gender       f    m\n",
       "attrition          \n",
       "False      533  791\n",
       "True        95  160"
      ]
     },
     "execution_count": 13,
     "metadata": {},
     "output_type": "execute_result"
    }
   ],
   "source": [
    "t_cont_gender = pd.crosstab(df['attrition'], df['gender'])\n",
    "\n",
    "t_cont_gender"
   ]
  },
  {
   "cell_type": "code",
   "execution_count": 16,
   "metadata": {},
   "outputs": [
    {
     "data": {
      "text/plain": [
       "0.4082328152702148"
      ]
     },
     "execution_count": 16,
     "metadata": {},
     "output_type": "execute_result"
    }
   ],
   "source": [
    "chi2, p_value, _, _=chi2_contingency(t_cont_gender)\n",
    "p_value"
   ]
  },
  {
   "cell_type": "markdown",
   "metadata": {},
   "source": [
    "p_value es mayor que 0.05 por lo que no podemos rechazar la HO \n",
    "NO EXISTE DIFERENCIA ENTRE GRUPOS"
   ]
  },
  {
   "cell_type": "markdown",
   "metadata": {},
   "source": [
    "¿EXISTE RELACIÓN ENTRE LOS EMPLEADOS QUE SIGUEN EN LA EMPRESA Y SU ESTADO CIVIL?\n",
    "HO > 0.05 :NO EXISTE UNA DIFERENCIA ENTRE GRUPOS\n",
    "H1 < 0.05 : EXISTE UNA DIFERENCIA ENTRE GRUPOS"
   ]
  },
  {
   "cell_type": "code",
   "execution_count": 36,
   "metadata": {},
   "outputs": [
    {
     "ename": "TypeError",
     "evalue": "'value' must be an instance of str or bytes, not a float",
     "output_type": "error",
     "traceback": [
      "\u001b[0;31m---------------------------------------------------------------------------\u001b[0m",
      "\u001b[0;31mTypeError\u001b[0m                                 Traceback (most recent call last)",
      "Cell \u001b[0;32mIn[36], line 5\u001b[0m\n\u001b[1;32m      1\u001b[0m fig, axes \u001b[38;5;241m=\u001b[39m plt\u001b[38;5;241m.\u001b[39msubplots(nrows\u001b[38;5;241m=\u001b[39m\u001b[38;5;241m1\u001b[39m, ncols\u001b[38;5;241m=\u001b[39m\u001b[38;5;241m2\u001b[39m, figsize\u001b[38;5;241m=\u001b[39m(\u001b[38;5;241m12\u001b[39m, \u001b[38;5;241m6\u001b[39m), sharex \u001b[38;5;241m=\u001b[39m \u001b[38;5;28;01mTrue\u001b[39;00m)\n\u001b[1;32m      4\u001b[0m \u001b[38;5;66;03m# Histograma para Attrition = True\u001b[39;00m\n\u001b[0;32m----> 5\u001b[0m axes[\u001b[38;5;241m0\u001b[39m]\u001b[38;5;241m.\u001b[39mhist(data\u001b[38;5;241m=\u001b[39mdf[df[\u001b[38;5;124m'\u001b[39m\u001b[38;5;124mattrition\u001b[39m\u001b[38;5;124m'\u001b[39m] \u001b[38;5;241m==\u001b[39m \u001b[38;5;28;01mTrue\u001b[39;00m], x\u001b[38;5;241m=\u001b[39m\u001b[38;5;124m'\u001b[39m\u001b[38;5;124mmarital_status\u001b[39m\u001b[38;5;124m'\u001b[39m)\n\u001b[1;32m      6\u001b[0m axes[\u001b[38;5;241m0\u001b[39m]\u001b[38;5;241m.\u001b[39mset_title(\u001b[38;5;124m'\u001b[39m\u001b[38;5;124mAntiguos empleados\u001b[39m\u001b[38;5;124m'\u001b[39m)\n\u001b[1;32m      8\u001b[0m \u001b[38;5;66;03m# Histograma para Attrition = False\u001b[39;00m\n",
      "File \u001b[0;32m~/anaconda3/lib/python3.11/site-packages/matplotlib/__init__.py:1472\u001b[0m, in \u001b[0;36m_preprocess_data.<locals>.inner\u001b[0;34m(ax, data, *args, **kwargs)\u001b[0m\n\u001b[1;32m   1468\u001b[0m \u001b[38;5;28;01mif\u001b[39;00m label_namer \u001b[38;5;129;01mand\u001b[39;00m \u001b[38;5;124m\"\u001b[39m\u001b[38;5;124mlabel\u001b[39m\u001b[38;5;124m\"\u001b[39m \u001b[38;5;129;01mnot\u001b[39;00m \u001b[38;5;129;01min\u001b[39;00m args_and_kwargs:\n\u001b[1;32m   1469\u001b[0m     new_kwargs[\u001b[38;5;124m\"\u001b[39m\u001b[38;5;124mlabel\u001b[39m\u001b[38;5;124m\"\u001b[39m] \u001b[38;5;241m=\u001b[39m _label_from_arg(\n\u001b[1;32m   1470\u001b[0m         args_and_kwargs\u001b[38;5;241m.\u001b[39mget(label_namer), auto_label)\n\u001b[0;32m-> 1472\u001b[0m \u001b[38;5;28;01mreturn\u001b[39;00m func(\u001b[38;5;241m*\u001b[39mnew_args, \u001b[38;5;241m*\u001b[39m\u001b[38;5;241m*\u001b[39mnew_kwargs)\n",
      "File \u001b[0;32m~/anaconda3/lib/python3.11/site-packages/matplotlib/axes/_axes.py:6712\u001b[0m, in \u001b[0;36mAxes.hist\u001b[0;34m(self, x, bins, range, density, weights, cumulative, bottom, histtype, align, orientation, rwidth, log, color, label, stacked, **kwargs)\u001b[0m\n\u001b[1;32m   6710\u001b[0m \u001b[38;5;28;01mif\u001b[39;00m orientation \u001b[38;5;241m==\u001b[39m \u001b[38;5;124m\"\u001b[39m\u001b[38;5;124mvertical\u001b[39m\u001b[38;5;124m\"\u001b[39m:\n\u001b[1;32m   6711\u001b[0m     convert_units \u001b[38;5;241m=\u001b[39m \u001b[38;5;28mself\u001b[39m\u001b[38;5;241m.\u001b[39mconvert_xunits\n\u001b[0;32m-> 6712\u001b[0m     x \u001b[38;5;241m=\u001b[39m [\u001b[38;5;241m*\u001b[39m\u001b[38;5;28mself\u001b[39m\u001b[38;5;241m.\u001b[39m_process_unit_info([(\u001b[38;5;124m\"\u001b[39m\u001b[38;5;124mx\u001b[39m\u001b[38;5;124m\"\u001b[39m, x[\u001b[38;5;241m0\u001b[39m])], kwargs),\n\u001b[1;32m   6713\u001b[0m          \u001b[38;5;241m*\u001b[39m\u001b[38;5;28mmap\u001b[39m(convert_units, x[\u001b[38;5;241m1\u001b[39m:])]\n\u001b[1;32m   6714\u001b[0m \u001b[38;5;28;01melse\u001b[39;00m:  \u001b[38;5;66;03m# horizontal\u001b[39;00m\n\u001b[1;32m   6715\u001b[0m     convert_units \u001b[38;5;241m=\u001b[39m \u001b[38;5;28mself\u001b[39m\u001b[38;5;241m.\u001b[39mconvert_yunits\n",
      "File \u001b[0;32m~/anaconda3/lib/python3.11/site-packages/matplotlib/axes/_base.py:2549\u001b[0m, in \u001b[0;36m_AxesBase._process_unit_info\u001b[0;34m(self, datasets, kwargs, convert)\u001b[0m\n\u001b[1;32m   2547\u001b[0m     \u001b[38;5;66;03m# Update from data if axis is already set but no unit is set yet.\u001b[39;00m\n\u001b[1;32m   2548\u001b[0m     \u001b[38;5;28;01mif\u001b[39;00m axis \u001b[38;5;129;01mis\u001b[39;00m \u001b[38;5;129;01mnot\u001b[39;00m \u001b[38;5;28;01mNone\u001b[39;00m \u001b[38;5;129;01mand\u001b[39;00m data \u001b[38;5;129;01mis\u001b[39;00m \u001b[38;5;129;01mnot\u001b[39;00m \u001b[38;5;28;01mNone\u001b[39;00m \u001b[38;5;129;01mand\u001b[39;00m \u001b[38;5;129;01mnot\u001b[39;00m axis\u001b[38;5;241m.\u001b[39mhave_units():\n\u001b[0;32m-> 2549\u001b[0m         axis\u001b[38;5;241m.\u001b[39mupdate_units(data)\n\u001b[1;32m   2550\u001b[0m \u001b[38;5;28;01mfor\u001b[39;00m axis_name, axis \u001b[38;5;129;01min\u001b[39;00m axis_map\u001b[38;5;241m.\u001b[39mitems():\n\u001b[1;32m   2551\u001b[0m     \u001b[38;5;66;03m# Return if no axis is set.\u001b[39;00m\n\u001b[1;32m   2552\u001b[0m     \u001b[38;5;28;01mif\u001b[39;00m axis \u001b[38;5;129;01mis\u001b[39;00m \u001b[38;5;28;01mNone\u001b[39;00m:\n",
      "File \u001b[0;32m~/anaconda3/lib/python3.11/site-packages/matplotlib/axis.py:1675\u001b[0m, in \u001b[0;36mAxis.update_units\u001b[0;34m(self, data)\u001b[0m\n\u001b[1;32m   1673\u001b[0m neednew \u001b[38;5;241m=\u001b[39m \u001b[38;5;28mself\u001b[39m\u001b[38;5;241m.\u001b[39mconverter \u001b[38;5;241m!=\u001b[39m converter\n\u001b[1;32m   1674\u001b[0m \u001b[38;5;28mself\u001b[39m\u001b[38;5;241m.\u001b[39mconverter \u001b[38;5;241m=\u001b[39m converter\n\u001b[0;32m-> 1675\u001b[0m default \u001b[38;5;241m=\u001b[39m \u001b[38;5;28mself\u001b[39m\u001b[38;5;241m.\u001b[39mconverter\u001b[38;5;241m.\u001b[39mdefault_units(data, \u001b[38;5;28mself\u001b[39m)\n\u001b[1;32m   1676\u001b[0m \u001b[38;5;28;01mif\u001b[39;00m default \u001b[38;5;129;01mis\u001b[39;00m \u001b[38;5;129;01mnot\u001b[39;00m \u001b[38;5;28;01mNone\u001b[39;00m \u001b[38;5;129;01mand\u001b[39;00m \u001b[38;5;28mself\u001b[39m\u001b[38;5;241m.\u001b[39munits \u001b[38;5;129;01mis\u001b[39;00m \u001b[38;5;28;01mNone\u001b[39;00m:\n\u001b[1;32m   1677\u001b[0m     \u001b[38;5;28mself\u001b[39m\u001b[38;5;241m.\u001b[39mset_units(default)\n",
      "File \u001b[0;32m~/anaconda3/lib/python3.11/site-packages/matplotlib/category.py:105\u001b[0m, in \u001b[0;36mStrCategoryConverter.default_units\u001b[0;34m(data, axis)\u001b[0m\n\u001b[1;32m    103\u001b[0m \u001b[38;5;66;03m# the conversion call stack is default_units -> axis_info -> convert\u001b[39;00m\n\u001b[1;32m    104\u001b[0m \u001b[38;5;28;01mif\u001b[39;00m axis\u001b[38;5;241m.\u001b[39munits \u001b[38;5;129;01mis\u001b[39;00m \u001b[38;5;28;01mNone\u001b[39;00m:\n\u001b[0;32m--> 105\u001b[0m     axis\u001b[38;5;241m.\u001b[39mset_units(UnitData(data))\n\u001b[1;32m    106\u001b[0m \u001b[38;5;28;01melse\u001b[39;00m:\n\u001b[1;32m    107\u001b[0m     axis\u001b[38;5;241m.\u001b[39munits\u001b[38;5;241m.\u001b[39mupdate(data)\n",
      "File \u001b[0;32m~/anaconda3/lib/python3.11/site-packages/matplotlib/category.py:181\u001b[0m, in \u001b[0;36mUnitData.__init__\u001b[0;34m(self, data)\u001b[0m\n\u001b[1;32m    179\u001b[0m \u001b[38;5;28mself\u001b[39m\u001b[38;5;241m.\u001b[39m_counter \u001b[38;5;241m=\u001b[39m itertools\u001b[38;5;241m.\u001b[39mcount()\n\u001b[1;32m    180\u001b[0m \u001b[38;5;28;01mif\u001b[39;00m data \u001b[38;5;129;01mis\u001b[39;00m \u001b[38;5;129;01mnot\u001b[39;00m \u001b[38;5;28;01mNone\u001b[39;00m:\n\u001b[0;32m--> 181\u001b[0m     \u001b[38;5;28mself\u001b[39m\u001b[38;5;241m.\u001b[39mupdate(data)\n",
      "File \u001b[0;32m~/anaconda3/lib/python3.11/site-packages/matplotlib/category.py:216\u001b[0m, in \u001b[0;36mUnitData.update\u001b[0;34m(self, data)\u001b[0m\n\u001b[1;32m    213\u001b[0m convertible \u001b[38;5;241m=\u001b[39m \u001b[38;5;28;01mTrue\u001b[39;00m\n\u001b[1;32m    214\u001b[0m \u001b[38;5;28;01mfor\u001b[39;00m val \u001b[38;5;129;01min\u001b[39;00m OrderedDict\u001b[38;5;241m.\u001b[39mfromkeys(data):\n\u001b[1;32m    215\u001b[0m     \u001b[38;5;66;03m# OrderedDict just iterates over unique values in data.\u001b[39;00m\n\u001b[0;32m--> 216\u001b[0m     _api\u001b[38;5;241m.\u001b[39mcheck_isinstance((\u001b[38;5;28mstr\u001b[39m, \u001b[38;5;28mbytes\u001b[39m), value\u001b[38;5;241m=\u001b[39mval)\n\u001b[1;32m    217\u001b[0m     \u001b[38;5;28;01mif\u001b[39;00m convertible:\n\u001b[1;32m    218\u001b[0m         \u001b[38;5;66;03m# this will only be called so long as convertible is True.\u001b[39;00m\n\u001b[1;32m    219\u001b[0m         convertible \u001b[38;5;241m=\u001b[39m \u001b[38;5;28mself\u001b[39m\u001b[38;5;241m.\u001b[39m_str_is_convertible(val)\n",
      "File \u001b[0;32m~/anaconda3/lib/python3.11/site-packages/matplotlib/_api/__init__.py:93\u001b[0m, in \u001b[0;36mcheck_isinstance\u001b[0;34m(_types, **kwargs)\u001b[0m\n\u001b[1;32m     91\u001b[0m     names\u001b[38;5;241m.\u001b[39mremove(\u001b[38;5;124m\"\u001b[39m\u001b[38;5;124mNone\u001b[39m\u001b[38;5;124m\"\u001b[39m)\n\u001b[1;32m     92\u001b[0m     names\u001b[38;5;241m.\u001b[39mappend(\u001b[38;5;124m\"\u001b[39m\u001b[38;5;124mNone\u001b[39m\u001b[38;5;124m\"\u001b[39m)\n\u001b[0;32m---> 93\u001b[0m \u001b[38;5;28;01mraise\u001b[39;00m \u001b[38;5;167;01mTypeError\u001b[39;00m(\n\u001b[1;32m     94\u001b[0m     \u001b[38;5;124m\"\u001b[39m\u001b[38;5;132;01m{!r}\u001b[39;00m\u001b[38;5;124m must be an instance of \u001b[39m\u001b[38;5;132;01m{}\u001b[39;00m\u001b[38;5;124m, not a \u001b[39m\u001b[38;5;132;01m{}\u001b[39;00m\u001b[38;5;124m\"\u001b[39m\u001b[38;5;241m.\u001b[39mformat(\n\u001b[1;32m     95\u001b[0m         k,\n\u001b[1;32m     96\u001b[0m         \u001b[38;5;124m\"\u001b[39m\u001b[38;5;124m, \u001b[39m\u001b[38;5;124m\"\u001b[39m\u001b[38;5;241m.\u001b[39mjoin(names[:\u001b[38;5;241m-\u001b[39m\u001b[38;5;241m1\u001b[39m]) \u001b[38;5;241m+\u001b[39m \u001b[38;5;124m\"\u001b[39m\u001b[38;5;124m or \u001b[39m\u001b[38;5;124m\"\u001b[39m \u001b[38;5;241m+\u001b[39m names[\u001b[38;5;241m-\u001b[39m\u001b[38;5;241m1\u001b[39m]\n\u001b[1;32m     97\u001b[0m         \u001b[38;5;28;01mif\u001b[39;00m \u001b[38;5;28mlen\u001b[39m(names) \u001b[38;5;241m>\u001b[39m \u001b[38;5;241m1\u001b[39m \u001b[38;5;28;01melse\u001b[39;00m names[\u001b[38;5;241m0\u001b[39m],\n\u001b[1;32m     98\u001b[0m         type_name(\u001b[38;5;28mtype\u001b[39m(v))))\n",
      "\u001b[0;31mTypeError\u001b[0m: 'value' must be an instance of str or bytes, not a float"
     ]
    },
    {
     "data": {
      "image/png": "[encoded data removed]",
      "text/plain": [
       "<Figure size 1200x600 with 2 Axes>"
      ]
     },
     "metadata": {},
     "output_type": "display_data"
    }
   ],
   "source": [
    "fig, axes = plt.subplots(nrows=1, ncols=2, figsize=(12, 6), sharex = True)\n",
    "\n",
    "\n",
    "# Histograma para Attrition = True\n",
    "axes[0].hist(data=df[df['attrition'] == True], x='marital_status')\n",
    "axes[0].set_title('Antiguos empleados')\n",
    "\n",
    "# Histograma para Attrition = False\n",
    "axes[1].hist(data=df[df['attrition'] == False], x='marital_status')\n",
    "axes[1].set_title('Empleados en la actualidad')"
   ]
  },
  {
   "cell_type": "code",
   "execution_count": 35,
   "metadata": {},
   "outputs": [
    {
     "data": {
      "text/plain": [
       "marital_status\n",
       "married     425\n",
       "single      318\n",
       "divorced    196\n",
       "Name: count, dtype: int64"
      ]
     },
     "execution_count": 35,
     "metadata": {},
     "output_type": "execute_result"
    }
   ],
   "source": [
    " df['marital_status'].value_counts()"
   ]
  },
  {
   "cell_type": "code",
   "execution_count": 19,
   "metadata": {},
   "outputs": [
    {
     "data": {
      "text/html": [
       "<div>\n",
       "<style scoped>\n",
       "    .dataframe tbody tr th:only-of-type {\n",
       "        vertical-align: middle;\n",
       "    }\n",
       "\n",
       "    .dataframe tbody tr th {\n",
       "        vertical-align: top;\n",
       "    }\n",
       "\n",
       "    .dataframe thead th {\n",
       "        text-align: right;\n",
       "    }\n",
       "</style>\n",
       "<table border=\"1\" class=\"dataframe\">\n",
       "  <thead>\n",
       "    <tr style=\"text-align: right;\">\n",
       "      <th>marital_status</th>\n",
       "      <th>divorced</th>\n",
       "      <th>married</th>\n",
       "      <th>single</th>\n",
       "    </tr>\n",
       "    <tr>\n",
       "      <th>attrition</th>\n",
       "      <th></th>\n",
       "      <th></th>\n",
       "      <th></th>\n",
       "    </tr>\n",
       "  </thead>\n",
       "  <tbody>\n",
       "    <tr>\n",
       "      <th>False</th>\n",
       "      <td>177</td>\n",
       "      <td>367</td>\n",
       "      <td>236</td>\n",
       "    </tr>\n",
       "    <tr>\n",
       "      <th>True</th>\n",
       "      <td>19</td>\n",
       "      <td>58</td>\n",
       "      <td>82</td>\n",
       "    </tr>\n",
       "  </tbody>\n",
       "</table>\n",
       "</div>"
      ],
      "text/plain": [
       "marital_status  divorced  married  single\n",
       "attrition                                \n",
       "False                177      367     236\n",
       "True                  19       58      82"
      ]
     },
     "execution_count": 19,
     "metadata": {},
     "output_type": "execute_result"
    }
   ],
   "source": [
    "t_cont_marital = pd.crosstab(df['attrition'], df['marital_status'])\n",
    "\n",
    "t_cont_marital"
   ]
  },
  {
   "cell_type": "code",
   "execution_count": 20,
   "metadata": {},
   "outputs": [
    {
     "data": {
      "text/plain": [
       "7.211261864983175e-07"
      ]
     },
     "execution_count": 20,
     "metadata": {},
     "output_type": "execute_result"
    }
   ],
   "source": [
    "chi2, p_value, _, _=chi2_contingency(t_cont_marital)\n",
    "p_value"
   ]
  },
  {
   "cell_type": "markdown",
   "metadata": {},
   "source": [
    "p_value es menor que 0.05 por lo que podemos rechazar la HO \n",
    "EXISTE DIFERENCIA ENTRE GRUPOS"
   ]
  },
  {
   "cell_type": "code",
   "execution_count": null,
   "metadata": {},
   "outputs": [],
   "source": [
    "#a esta altura me he dado cuenta de que son 3 grupos no dos"
   ]
  },
  {
   "cell_type": "markdown",
   "metadata": {},
   "source": [
    "    - years since las promotion (numerico)\n",
    "    - monthly_income (numérico)"
   ]
  },
  {
   "cell_type": "markdown",
   "metadata": {},
   "source": [
    "¿EXISTE RELACIÓN ENTRE LOS EMPLEADOS QUE SIGUEN EN LA EMPRESA Y SU SALARIO?\n",
    "HO > 0.05 :NO EXISTE UNA DIFERENCIA ENTRE GRUPOS\n",
    "H1 < 0.05 : EXISTE UNA DIFERENCIA ENTRE GRUPOS"
   ]
  },
  {
   "cell_type": "code",
   "execution_count": 43,
   "metadata": {},
   "outputs": [
    {
     "data": {
      "text/plain": [
       "<Axes: xlabel='employee_number', ylabel='monthly_income'>"
      ]
     },
     "execution_count": 43,
     "metadata": {},
     "output_type": "execute_result"
    },
    {
     "data": {
      "image/png": "[encoded data removed]",
      "text/plain": [
       "<Figure size 640x480 with 1 Axes>"
      ]
     },
     "metadata": {},
     "output_type": "display_data"
    }
   ],
   "source": [
    "sns.scatterplot(data=df, x='employee_number', y= 'monthly_income', hue = 'attrition')"
   ]
  },
  {
   "cell_type": "markdown",
   "metadata": {},
   "source": [
    "la mayoria de los trabajadores están en los sueltos bajos pero a primera vista parece que los que se han marchado (los naranjas) lo están en mayor proporción"
   ]
  },
  {
   "cell_type": "code",
   "execution_count": 47,
   "metadata": {},
   "outputs": [],
   "source": [
    "# lo primero que hacemos es crear una función para testar la normalidad de los datos\n",
    "def normalidad(dataframe, columna):\n",
    "    \"\"\"\n",
    "    Evalúa la normalidad de una columna de datos de un DataFrame utilizando la prueba de Shapiro-Wilk.\n",
    "\n",
    "    Parámetros:\n",
    "        dataframe (DataFrame): El DataFrame que contiene los datos.\n",
    "        columna (str): El nombre de la columna en el DataFrame que se va a evaluar para la normalidad.\n",
    "\n",
    "    Returns:\n",
    "        None: Imprime un mensaje indicando si los datos siguen o no una distribución normal.\n",
    "    \"\"\"\n",
    "\n",
    "    statistic, p_value = stats.shapiro(dataframe[columna])\n",
    "    if p_value > 0.05:\n",
    "        print(f\"Para la columna {columna} los datos siguen una distribución normal.\")\n",
    "    else:\n",
    "        print(f\"Para la columna {columna} los datos no siguen una distribución normal.\")"
   ]
  },
  {
   "cell_type": "code",
   "execution_count": 48,
   "metadata": {},
   "outputs": [
    {
     "name": "stdout",
     "output_type": "stream",
     "text": [
      "Para la columna monthly_income los datos siguen una distribución normal.\n"
     ]
    }
   ],
   "source": [
    "normalidad(df,'monthly_income')"
   ]
  },
  {
   "cell_type": "code",
   "execution_count": 49,
   "metadata": {},
   "outputs": [],
   "source": [
    "def homogeneidad (dataframe, columna, columna_metrica):\n",
    "    \n",
    "    \"\"\"\n",
    "    Evalúa la homogeneidad de las varianzas entre grupos para una métrica específica en un DataFrame dado.\n",
    "\n",
    "    Parámetros:\n",
    "    - dataframe (DataFrame): El DataFrame que contiene los datos.\n",
    "    - columna (str): El nombre de la columna que se utilizará para dividir los datos en grupos.\n",
    "    - columna_metrica (str): El nombre de la columna que se utilizará para evaluar la homogeneidad de las varianzas.\n",
    "\n",
    "    Returns:\n",
    "    No devuelve nada directamente, pero imprime en la consola si las varianzas son homogéneas o no entre los grupos.\n",
    "    Se utiliza la prueba de Levene para evaluar la homogeneidad de las varianzas. Si el valor p resultante es mayor que 0.05,\n",
    "    se concluye que las varianzas son homogéneas; de lo contrario, se concluye que las varianzas no son homogéneas.\n",
    "    \"\"\"\n",
    "    \n",
    "    # lo primero que tenemos que hacer es crear tantos conjuntos de datos para cada una de las categorías que tenemos, Control Campaign y Test Campaign\n",
    "    valores_evaluar = []\n",
    "    \n",
    "    for valor in dataframe[columna].unique():\n",
    "        valores_evaluar.append(dataframe[dataframe[columna]== valor][columna_metrica])\n",
    "\n",
    "    statistic, p_value = stats.levene(*valores_evaluar)\n",
    "    if p_value > 0.05:\n",
    "        print(f\"Para la métrica {columna_metrica} las varianzas son homogéneas entre grupos.\")\n",
    "    else:\n",
    "        print(f\"Para la métrica {columna_metrica}, las varianzas no son homogéneas entre grupos.\")\n"
   ]
  },
  {
   "cell_type": "code",
   "execution_count": 50,
   "metadata": {},
   "outputs": [
    {
     "name": "stdout",
     "output_type": "stream",
     "text": [
      "Para la métrica monthly_income, las varianzas no son homogéneas entre grupos.\n"
     ]
    }
   ],
   "source": [
    "homogeneidad(df,'attrition','monthly_income')"
   ]
  },
  {
   "cell_type": "markdown",
   "metadata": {},
   "source": [
    "al no ser homogeneas usaremos el test de mann whitney"
   ]
  },
  {
   "cell_type": "code",
   "execution_count": 56,
   "metadata": {},
   "outputs": [],
   "source": [
    "\n",
    "income_current_employees = df[df['attrition'] == False]['monthly_income']\n",
    "income_former_employees = df[df['attrition'] == True]['monthly_income']"
   ]
  },
  {
   "cell_type": "code",
   "execution_count": 59,
   "metadata": {},
   "outputs": [
    {
     "data": {
      "text/plain": [
       "nan"
      ]
     },
     "execution_count": 59,
     "metadata": {},
     "output_type": "execute_result"
    }
   ],
   "source": [
    "statistic, p_value = stats.mannwhitneyu(income_current_employees, income_former_employees)\n",
    "p_value"
   ]
  }
 ],
 "metadata": {
  "kernelspec": {
   "display_name": "base",
   "language": "python",
   "name": "python3"
  },
  "language_info": {
   "codemirror_mode": {
    "name": "ipython",
    "version": 3
   },
   "file_extension": ".py",
   "mimetype": "text/x-python",
   "name": "python",
   "nbconvert_exporter": "python",
   "pygments_lexer": "ipython3",
   "version": "3.11.5"
  }
 },
 "nbformat": 4,
 "nbformat_minor": 2
}
