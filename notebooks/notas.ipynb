{
 "cells": [
  {
   "cell_type": "code",
   "execution_count": 1,
   "metadata": {},
   "outputs": [
    {
     "name": "stderr",
     "output_type": "stream",
     "text": [
      "C:\\Users\\Isabel\\AppData\\Local\\Temp\\ipykernel_12544\\2872363843.py:1: DeprecationWarning: \n",
      "Pyarrow will become a required dependency of pandas in the next major release of pandas (pandas 3.0),\n",
      "(to allow more performant data types, such as the Arrow string type, and better interoperability with other libraries)\n",
      "but was not found to be installed on your system.\n",
      "If this would cause problems for you,\n",
      "please provide us feedback at https://github.com/pandas-dev/pandas/issues/54466\n",
      "        \n",
      "  import pandas as pd\n"
     ]
    }
   ],
   "source": [
    "import pandas as pd\n",
    "import numpy as np\n",
    "pd.set_option('display.max_columns', None)"
   ]
  },
  {
   "cell_type": "markdown",
   "metadata": {},
   "source": [
    "- hacer lambdas (?)\n",
    "- employee number duplicados: \n",
    "    - mantener\n",
    "    - en consultas escoger según parámetro que necesitemos\n",
    "\n",
    "- arreglar nombre de columna total working years\n"
   ]
  },
  {
   "cell_type": "markdown",
   "metadata": {},
   "source": [
    "- borrar age: cambia cada año, habría que ir actualizándola\n",
    "    - mejor hacerla de manera dinámica con un filtro\n",
    "\n",
    "- standard_hours: casi un 98% de nulos; no ofrece ninguna info"
   ]
  },
  {
   "cell_type": "markdown",
   "metadata": {},
   "source": [
    "**NOTAS INÉS**\n",
    "- 'standard_hours' : tiene muchos nulos (74%) y el resto tienen todos el mismo dato : 80.0\n",
    "- 'years_in_current_role' : tiene muchos nulos (97.9%) "
   ]
  },
  {
   "cell_type": "markdown",
   "metadata": {},
   "source": [
    "**TO-DO LIST**:\n",
    "\n",
    "- arreglar working_years\n",
    "- limpiar csv\n",
    "- hacer subset department/role_department\n",
    "- poner nulos en enviroment satisfaction\n",
    "- revisar employeenumber\n",
    "- subset de rates\n"
   ]
  }
 ],
 "metadata": {
  "kernelspec": {
   "display_name": "Python 3",
   "language": "python",
   "name": "python3"
  },
  "language_info": {
   "codemirror_mode": {
    "name": "ipython",
    "version": 3
   },
   "file_extension": ".py",
   "mimetype": "text/x-python",
   "name": "python",
   "nbconvert_exporter": "python",
   "pygments_lexer": "ipython3",
   "version": "3.11.8"
  }
 },
 "nbformat": 4,
 "nbformat_minor": 2
}
